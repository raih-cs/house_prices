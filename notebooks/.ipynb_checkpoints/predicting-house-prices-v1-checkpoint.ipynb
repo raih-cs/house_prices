{
 "cells": [
  {
   "cell_type": "markdown",
   "id": "2374936b",
   "metadata": {
    "papermill": {
     "duration": 0.171856,
     "end_time": "2022-05-11T12:54:09.157492",
     "exception": false,
     "start_time": "2022-05-11T12:54:08.985636",
     "status": "completed"
    },
    "tags": []
   },
   "source": [
    "# Introduction"
   ]
  },
  {
   "cell_type": "markdown",
   "id": "066bd772",
   "metadata": {
    "papermill": {
     "duration": 0.158996,
     "end_time": "2022-05-11T12:54:09.479259",
     "exception": false,
     "start_time": "2022-05-11T12:54:09.320263",
     "status": "completed"
    },
    "tags": []
   },
   "source": [
    "For this project, the house prices from the Ames Housing test dataset will be predicted. There are two datasets that will be imported from this competition:\n",
    "\n",
    "- Training dataset \"train.csv\" for whom the Supervised Learning Models will be trained upon;\n",
    "- Test dataset \"test.csv\" where the house prices will be predicted."
   ]
  },
  {
   "cell_type": "markdown",
   "id": "31f42421",
   "metadata": {
    "papermill": {
     "duration": 0.161024,
     "end_time": "2022-05-11T12:54:09.800838",
     "exception": false,
     "start_time": "2022-05-11T12:54:09.639814",
     "status": "completed"
    },
    "tags": []
   },
   "source": [
    "# Acknowledgements\n",
    "\n",
    "The work presented was inspired from the Machine Learning Tutorials I have gone through here on Kaggle and from other sources. I would also like to thank [A. Qua](https://www.kaggle.com/adibouayjan) and his [notebook](https://www.kaggle.com/code/adibouayjan/house-price-step-by-step-modeling) which provided the inspiration for this notebook and I highly recommended looking through if you want to pick up some important techniques with regards to exploratory data analysis, feature engineering and training and analysis of supervised learning models."
   ]
  },
  {
   "cell_type": "code",
   "execution_count": 1,
   "id": "6d621bc7",
   "metadata": {
    "execution": {
     "iopub.execute_input": "2022-05-11T12:54:10.124855Z",
     "iopub.status.busy": "2022-05-11T12:54:10.124573Z",
     "iopub.status.idle": "2022-05-11T12:54:12.190546Z",
     "shell.execute_reply": "2022-05-11T12:54:12.189281Z"
    },
    "papermill": {
     "duration": 2.231771,
     "end_time": "2022-05-11T12:54:12.193478",
     "exception": false,
     "start_time": "2022-05-11T12:54:09.961707",
     "status": "completed"
    },
    "tags": []
   },
   "outputs": [],
   "source": [
    "import numpy as np\n",
    "import pandas as pd\n",
    "import seaborn as sns\n",
    "import matplotlib.pyplot as plt\n",
    "\n",
    "# Model functions\n",
    "from sklearn.linear_model import LinearRegression\n",
    "from sklearn.linear_model import Ridge\n",
    "from sklearn.linear_model import Lasso\n",
    "from sklearn.tree import DecisionTreeRegressor\n",
    "from sklearn.ensemble import RandomForestRegressor\n",
    "from xgboost import XGBRegressor\n",
    "\n",
    "# Statistics functions\n",
    "from scipy import stats\n",
    "from scipy.stats import chi2_contingency\n",
    "from scipy.stats import chi2\n",
    "\n",
    "# Functions to calculate Mean Absolute Error (MAE) and Mean Squared Error (MSE)\n",
    "from sklearn.metrics import mean_absolute_error\n",
    "from sklearn.metrics import mean_squared_error\n",
    "\n",
    "# Function to split data into different groups\n",
    "from sklearn.model_selection import train_test_split\n",
    "from sklearn.model_selection import cross_val_score\n",
    "from sklearn.model_selection import GridSearchCV\n",
    "from sklearn.feature_selection import VarianceThreshold\n",
    "\n",
    "# Function to deal with missing values via imputation\n",
    "from sklearn.impute import SimpleImputer\n",
    "\n",
    "# Function that converts categorical values into numerical values via ordinal encoding or one-hot encoding\n",
    "from sklearn.preprocessing import OrdinalEncoder\n",
    "from sklearn.preprocessing import OneHotEncoder\n",
    "\n",
    "from sklearn.preprocessing import StandardScaler\n",
    "from sklearn import preprocessing\n",
    "\n",
    "from sklearn.compose import ColumnTransformer\n",
    "from sklearn.pipeline import Pipeline"
   ]
  },
  {
   "cell_type": "markdown",
   "id": "b2e70243",
   "metadata": {
    "papermill": {
     "duration": 0.161835,
     "end_time": "2022-05-11T12:54:12.518749",
     "exception": false,
     "start_time": "2022-05-11T12:54:12.356914",
     "status": "completed"
    },
    "tags": []
   },
   "source": [
    "First, we import the training and test datasets from the House Prices Advanced Regression competition into data_train and data_test respectively. As seen by the shape of the two datasets, data_test has one less column than data_train as it does not contain the target variable \"SalePrice\"."
   ]
  },
  {
   "cell_type": "code",
   "execution_count": 2,
   "id": "dca8b0ea",
   "metadata": {
    "execution": {
     "iopub.execute_input": "2022-05-11T12:54:12.843614Z",
     "iopub.status.busy": "2022-05-11T12:54:12.843338Z",
     "iopub.status.idle": "2022-05-11T12:54:12.923906Z",
     "shell.execute_reply": "2022-05-11T12:54:12.922516Z"
    },
    "papermill": {
     "duration": 0.247247,
     "end_time": "2022-05-11T12:54:12.926963",
     "exception": false,
     "start_time": "2022-05-11T12:54:12.679716",
     "status": "completed"
    },
    "tags": []
   },
   "outputs": [
    {
     "name": "stdout",
     "output_type": "stream",
     "text": [
      "Training set shape: (1460, 81)\n",
      "\n",
      "Test set shape: (1459, 80)\n",
      "\n"
     ]
    }
   ],
   "source": [
    "data_train = pd.read_csv('C:/Users/Arjun (Non-admin)/Documents/house_prices/data/train.csv')\n",
    "data_test = pd.read_csv('C:/Users/Arjun (Non-admin)/Documents/house_prices/data/test.csv')\n",
    "\n",
    "print(f\"Training set shape: {data_train.shape}\\n\")\n",
    "print(f\"Test set shape: {data_test.shape}\\n\")"
   ]
  },
  {
   "cell_type": "code",
   "execution_count": 3,
   "id": "56dada3c",
   "metadata": {
    "execution": {
     "iopub.execute_input": "2022-05-11T12:54:13.247773Z",
     "iopub.status.busy": "2022-05-11T12:54:13.247031Z",
     "iopub.status.idle": "2022-05-11T12:54:13.290108Z",
     "shell.execute_reply": "2022-05-11T12:54:13.289333Z"
    },
    "papermill": {
     "duration": 0.206052,
     "end_time": "2022-05-11T12:54:13.292816",
     "exception": false,
     "start_time": "2022-05-11T12:54:13.086764",
     "status": "completed"
    },
    "tags": []
   },
   "outputs": [
    {
     "name": "stdout",
     "output_type": "stream",
     "text": [
      "<class 'pandas.core.frame.DataFrame'>\n",
      "RangeIndex: 1460 entries, 0 to 1459\n",
      "Data columns (total 81 columns):\n",
      " #   Column         Non-Null Count  Dtype  \n",
      "---  ------         --------------  -----  \n",
      " 0   Id             1460 non-null   int64  \n",
      " 1   MSSubClass     1460 non-null   int64  \n",
      " 2   MSZoning       1460 non-null   object \n",
      " 3   LotFrontage    1201 non-null   float64\n",
      " 4   LotArea        1460 non-null   int64  \n",
      " 5   Street         1460 non-null   object \n",
      " 6   Alley          91 non-null     object \n",
      " 7   LotShape       1460 non-null   object \n",
      " 8   LandContour    1460 non-null   object \n",
      " 9   Utilities      1460 non-null   object \n",
      " 10  LotConfig      1460 non-null   object \n",
      " 11  LandSlope      1460 non-null   object \n",
      " 12  Neighborhood   1460 non-null   object \n",
      " 13  Condition1     1460 non-null   object \n",
      " 14  Condition2     1460 non-null   object \n",
      " 15  BldgType       1460 non-null   object \n",
      " 16  HouseStyle     1460 non-null   object \n",
      " 17  OverallQual    1460 non-null   int64  \n",
      " 18  OverallCond    1460 non-null   int64  \n",
      " 19  YearBuilt      1460 non-null   int64  \n",
      " 20  YearRemodAdd   1460 non-null   int64  \n",
      " 21  RoofStyle      1460 non-null   object \n",
      " 22  RoofMatl       1460 non-null   object \n",
      " 23  Exterior1st    1460 non-null   object \n",
      " 24  Exterior2nd    1460 non-null   object \n",
      " 25  MasVnrType     1452 non-null   object \n",
      " 26  MasVnrArea     1452 non-null   float64\n",
      " 27  ExterQual      1460 non-null   object \n",
      " 28  ExterCond      1460 non-null   object \n",
      " 29  Foundation     1460 non-null   object \n",
      " 30  BsmtQual       1423 non-null   object \n",
      " 31  BsmtCond       1423 non-null   object \n",
      " 32  BsmtExposure   1422 non-null   object \n",
      " 33  BsmtFinType1   1423 non-null   object \n",
      " 34  BsmtFinSF1     1460 non-null   int64  \n",
      " 35  BsmtFinType2   1422 non-null   object \n",
      " 36  BsmtFinSF2     1460 non-null   int64  \n",
      " 37  BsmtUnfSF      1460 non-null   int64  \n",
      " 38  TotalBsmtSF    1460 non-null   int64  \n",
      " 39  Heating        1460 non-null   object \n",
      " 40  HeatingQC      1460 non-null   object \n",
      " 41  CentralAir     1460 non-null   object \n",
      " 42  Electrical     1459 non-null   object \n",
      " 43  1stFlrSF       1460 non-null   int64  \n",
      " 44  2ndFlrSF       1460 non-null   int64  \n",
      " 45  LowQualFinSF   1460 non-null   int64  \n",
      " 46  GrLivArea      1460 non-null   int64  \n",
      " 47  BsmtFullBath   1460 non-null   int64  \n",
      " 48  BsmtHalfBath   1460 non-null   int64  \n",
      " 49  FullBath       1460 non-null   int64  \n",
      " 50  HalfBath       1460 non-null   int64  \n",
      " 51  BedroomAbvGr   1460 non-null   int64  \n",
      " 52  KitchenAbvGr   1460 non-null   int64  \n",
      " 53  KitchenQual    1460 non-null   object \n",
      " 54  TotRmsAbvGrd   1460 non-null   int64  \n",
      " 55  Functional     1460 non-null   object \n",
      " 56  Fireplaces     1460 non-null   int64  \n",
      " 57  FireplaceQu    770 non-null    object \n",
      " 58  GarageType     1379 non-null   object \n",
      " 59  GarageYrBlt    1379 non-null   float64\n",
      " 60  GarageFinish   1379 non-null   object \n",
      " 61  GarageCars     1460 non-null   int64  \n",
      " 62  GarageArea     1460 non-null   int64  \n",
      " 63  GarageQual     1379 non-null   object \n",
      " 64  GarageCond     1379 non-null   object \n",
      " 65  PavedDrive     1460 non-null   object \n",
      " 66  WoodDeckSF     1460 non-null   int64  \n",
      " 67  OpenPorchSF    1460 non-null   int64  \n",
      " 68  EnclosedPorch  1460 non-null   int64  \n",
      " 69  3SsnPorch      1460 non-null   int64  \n",
      " 70  ScreenPorch    1460 non-null   int64  \n",
      " 71  PoolArea       1460 non-null   int64  \n",
      " 72  PoolQC         7 non-null      object \n",
      " 73  Fence          281 non-null    object \n",
      " 74  MiscFeature    54 non-null     object \n",
      " 75  MiscVal        1460 non-null   int64  \n",
      " 76  MoSold         1460 non-null   int64  \n",
      " 77  YrSold         1460 non-null   int64  \n",
      " 78  SaleType       1460 non-null   object \n",
      " 79  SaleCondition  1460 non-null   object \n",
      " 80  SalePrice      1460 non-null   int64  \n",
      "dtypes: float64(3), int64(35), object(43)\n",
      "memory usage: 924.0+ KB\n"
     ]
    }
   ],
   "source": [
    "data_train.info()"
   ]
  },
  {
   "cell_type": "markdown",
   "id": "25fa7fb1",
   "metadata": {
    "papermill": {
     "duration": 0.161919,
     "end_time": "2022-05-11T12:54:13.620269",
     "exception": false,
     "start_time": "2022-05-11T12:54:13.458350",
     "status": "completed"
    },
    "tags": []
   },
   "source": [
    "Looking at the information from the data_train DataFrame, we see that some of these columns have missing values. These missing values will be dealt with later. But before we do some exploratory data analysis and feature engineering, we check to see that both datasets have the same feature variables (i.e. they both have the same columns except for \"SalePrice\" in data_train)."
   ]
  },
  {
   "cell_type": "code",
   "execution_count": 4,
   "id": "2538106b",
   "metadata": {
    "execution": {
     "iopub.execute_input": "2022-05-11T12:54:13.947027Z",
     "iopub.status.busy": "2022-05-11T12:54:13.946701Z",
     "iopub.status.idle": "2022-05-11T12:54:13.956517Z",
     "shell.execute_reply": "2022-05-11T12:54:13.955493Z"
    },
    "papermill": {
     "duration": 0.17601,
     "end_time": "2022-05-11T12:54:13.959993",
     "exception": false,
     "start_time": "2022-05-11T12:54:13.783983",
     "status": "completed"
    },
    "tags": []
   },
   "outputs": [
    {
     "name": "stdout",
     "output_type": "stream",
     "text": [
      "Columns present in df_train and absent in df_test: ['SalePrice']\n",
      "\n",
      "Columns present in df_test set and absent in df_train: []\n"
     ]
    }
   ],
   "source": [
    "# Checking if column headings are the same in both data set\n",
    "dif_1 = [x for x in data_train.columns if x not in data_test.columns]\n",
    "print(f\"Columns present in df_train and absent in df_test: {dif_1}\\n\")\n",
    "\n",
    "dif_2 = [x for x in data_test.columns if x not in data_train.columns]\n",
    "print(f\"Columns present in df_test set and absent in df_train: {dif_2}\")"
   ]
  },
  {
   "cell_type": "markdown",
   "id": "6b7e09e0",
   "metadata": {
    "papermill": {
     "duration": 0.160315,
     "end_time": "2022-05-11T12:54:14.280960",
     "exception": false,
     "start_time": "2022-05-11T12:54:14.120645",
     "status": "completed"
    },
    "tags": []
   },
   "source": [
    "Before we proceed investigating the numerical and categorical features from both datasets, the \"Id\" column will be dropped from both datasets as well. The list of IDs from the test set will be saved so that it can be used later on when we predict the house prices from that dataset."
   ]
  },
  {
   "cell_type": "code",
   "execution_count": 5,
   "id": "47347d25",
   "metadata": {
    "execution": {
     "iopub.execute_input": "2022-05-11T12:54:14.575539Z",
     "iopub.status.busy": "2022-05-11T12:54:14.574659Z",
     "iopub.status.idle": "2022-05-11T12:54:14.587522Z",
     "shell.execute_reply": "2022-05-11T12:54:14.586336Z"
    },
    "papermill": {
     "duration": 0.148874,
     "end_time": "2022-05-11T12:54:14.589962",
     "exception": false,
     "start_time": "2022-05-11T12:54:14.441088",
     "status": "completed"
    },
    "tags": []
   },
   "outputs": [],
   "source": [
    "# Drop the 'Id' column from the training set\n",
    "data_train.drop([\"Id\"], axis=1, inplace=True)\n",
    "\n",
    "# Save the 'Id' list before dropping it from the test set\n",
    "Id_test_list = data_test[\"Id\"].tolist()\n",
    "data_test.drop([\"Id\"], axis=1, inplace=True)"
   ]
  },
  {
   "cell_type": "markdown",
   "id": "1e036d20",
   "metadata": {
    "papermill": {
     "duration": 0.104593,
     "end_time": "2022-05-11T12:54:14.795177",
     "exception": false,
     "start_time": "2022-05-11T12:54:14.690584",
     "status": "completed"
    },
    "tags": []
   },
   "source": [
    "At certain stages of this project, the shape of both datasets will be printed out to clarify that both datasets have had the same features either added on or removed. The shape of both datasets now before we investigate the numerical and categorical features from both datasets stands as follows:"
   ]
  },
  {
   "cell_type": "code",
   "execution_count": 6,
   "id": "7ff5a605",
   "metadata": {
    "execution": {
     "iopub.execute_input": "2022-05-11T12:54:15.026434Z",
     "iopub.status.busy": "2022-05-11T12:54:15.026140Z",
     "iopub.status.idle": "2022-05-11T12:54:15.032950Z",
     "shell.execute_reply": "2022-05-11T12:54:15.031162Z"
    },
    "papermill": {
     "duration": 0.133287,
     "end_time": "2022-05-11T12:54:15.034969",
     "exception": false,
     "start_time": "2022-05-11T12:54:14.901682",
     "status": "completed"
    },
    "tags": []
   },
   "outputs": [
    {
     "name": "stdout",
     "output_type": "stream",
     "text": [
      "Training set shape: (1460, 80)\n",
      "\n",
      "Test set shape: (1459, 79)\n",
      "\n"
     ]
    }
   ],
   "source": [
    "print(f\"Training set shape: {data_train.shape}\\n\")\n",
    "print(f\"Test set shape: {data_test.shape}\\n\")"
   ]
  },
  {
   "cell_type": "markdown",
   "id": "620da228",
   "metadata": {
    "papermill": {
     "duration": 0.102705,
     "end_time": "2022-05-11T12:54:15.241061",
     "exception": false,
     "start_time": "2022-05-11T12:54:15.138356",
     "status": "completed"
    },
    "tags": []
   },
   "source": [
    "# Numerical Data"
   ]
  },
  {
   "cell_type": "markdown",
   "id": "35a97059",
   "metadata": {
    "papermill": {
     "duration": 0.101818,
     "end_time": "2022-05-11T12:54:15.446784",
     "exception": false,
     "start_time": "2022-05-11T12:54:15.344966",
     "status": "completed"
    },
    "tags": []
   },
   "source": [
    "Firstly we will focus on the numerical features from both datasets where we will do some exploratory data analysis and some feature engineering to\n",
    "\n",
    "* Investigate the distribution of these numerical features;\n",
    "* Investigate the correlation of these numerical features with \"SalePrice\" and drop any features that have low correlation;\n",
    "* Deal with missing values through imputation.\n",
    "\n",
    "To start off with, we select only the numerical columns from data_train (including \"SalePrice\") by obtaining the list of numerical columns from data_train in numerical_cols, and using this to take out the numerical columns from data_train and store them in a new DataFrame data_train_num (we also do the same thing with the test dataset)."
   ]
  },
  {
   "cell_type": "code",
   "execution_count": 7,
   "id": "84c7ae85",
   "metadata": {
    "execution": {
     "iopub.execute_input": "2022-05-11T12:54:15.656163Z",
     "iopub.status.busy": "2022-05-11T12:54:15.655611Z",
     "iopub.status.idle": "2022-05-11T12:54:15.703750Z",
     "shell.execute_reply": "2022-05-11T12:54:15.702347Z"
    },
    "papermill": {
     "duration": 0.156822,
     "end_time": "2022-05-11T12:54:15.706324",
     "exception": false,
     "start_time": "2022-05-11T12:54:15.549502",
     "status": "completed"
    },
    "tags": []
   },
   "outputs": [
    {
     "data": {
      "text/html": [
       "<div>\n",
       "<style scoped>\n",
       "    .dataframe tbody tr th:only-of-type {\n",
       "        vertical-align: middle;\n",
       "    }\n",
       "\n",
       "    .dataframe tbody tr th {\n",
       "        vertical-align: top;\n",
       "    }\n",
       "\n",
       "    .dataframe thead th {\n",
       "        text-align: right;\n",
       "    }\n",
       "</style>\n",
       "<table border=\"1\" class=\"dataframe\">\n",
       "  <thead>\n",
       "    <tr style=\"text-align: right;\">\n",
       "      <th></th>\n",
       "      <th>MSSubClass</th>\n",
       "      <th>LotFrontage</th>\n",
       "      <th>LotArea</th>\n",
       "      <th>OverallQual</th>\n",
       "      <th>OverallCond</th>\n",
       "      <th>YearBuilt</th>\n",
       "      <th>YearRemodAdd</th>\n",
       "      <th>MasVnrArea</th>\n",
       "      <th>BsmtFinSF1</th>\n",
       "      <th>BsmtFinSF2</th>\n",
       "      <th>...</th>\n",
       "      <th>WoodDeckSF</th>\n",
       "      <th>OpenPorchSF</th>\n",
       "      <th>EnclosedPorch</th>\n",
       "      <th>3SsnPorch</th>\n",
       "      <th>ScreenPorch</th>\n",
       "      <th>PoolArea</th>\n",
       "      <th>MiscVal</th>\n",
       "      <th>MoSold</th>\n",
       "      <th>YrSold</th>\n",
       "      <th>SalePrice</th>\n",
       "    </tr>\n",
       "  </thead>\n",
       "  <tbody>\n",
       "    <tr>\n",
       "      <th>0</th>\n",
       "      <td>60</td>\n",
       "      <td>65.0</td>\n",
       "      <td>8450</td>\n",
       "      <td>7</td>\n",
       "      <td>5</td>\n",
       "      <td>2003</td>\n",
       "      <td>2003</td>\n",
       "      <td>196.0</td>\n",
       "      <td>706</td>\n",
       "      <td>0</td>\n",
       "      <td>...</td>\n",
       "      <td>0</td>\n",
       "      <td>61</td>\n",
       "      <td>0</td>\n",
       "      <td>0</td>\n",
       "      <td>0</td>\n",
       "      <td>0</td>\n",
       "      <td>0</td>\n",
       "      <td>2</td>\n",
       "      <td>2008</td>\n",
       "      <td>208500</td>\n",
       "    </tr>\n",
       "    <tr>\n",
       "      <th>1</th>\n",
       "      <td>20</td>\n",
       "      <td>80.0</td>\n",
       "      <td>9600</td>\n",
       "      <td>6</td>\n",
       "      <td>8</td>\n",
       "      <td>1976</td>\n",
       "      <td>1976</td>\n",
       "      <td>0.0</td>\n",
       "      <td>978</td>\n",
       "      <td>0</td>\n",
       "      <td>...</td>\n",
       "      <td>298</td>\n",
       "      <td>0</td>\n",
       "      <td>0</td>\n",
       "      <td>0</td>\n",
       "      <td>0</td>\n",
       "      <td>0</td>\n",
       "      <td>0</td>\n",
       "      <td>5</td>\n",
       "      <td>2007</td>\n",
       "      <td>181500</td>\n",
       "    </tr>\n",
       "    <tr>\n",
       "      <th>2</th>\n",
       "      <td>60</td>\n",
       "      <td>68.0</td>\n",
       "      <td>11250</td>\n",
       "      <td>7</td>\n",
       "      <td>5</td>\n",
       "      <td>2001</td>\n",
       "      <td>2002</td>\n",
       "      <td>162.0</td>\n",
       "      <td>486</td>\n",
       "      <td>0</td>\n",
       "      <td>...</td>\n",
       "      <td>0</td>\n",
       "      <td>42</td>\n",
       "      <td>0</td>\n",
       "      <td>0</td>\n",
       "      <td>0</td>\n",
       "      <td>0</td>\n",
       "      <td>0</td>\n",
       "      <td>9</td>\n",
       "      <td>2008</td>\n",
       "      <td>223500</td>\n",
       "    </tr>\n",
       "    <tr>\n",
       "      <th>3</th>\n",
       "      <td>70</td>\n",
       "      <td>60.0</td>\n",
       "      <td>9550</td>\n",
       "      <td>7</td>\n",
       "      <td>5</td>\n",
       "      <td>1915</td>\n",
       "      <td>1970</td>\n",
       "      <td>0.0</td>\n",
       "      <td>216</td>\n",
       "      <td>0</td>\n",
       "      <td>...</td>\n",
       "      <td>0</td>\n",
       "      <td>35</td>\n",
       "      <td>272</td>\n",
       "      <td>0</td>\n",
       "      <td>0</td>\n",
       "      <td>0</td>\n",
       "      <td>0</td>\n",
       "      <td>2</td>\n",
       "      <td>2006</td>\n",
       "      <td>140000</td>\n",
       "    </tr>\n",
       "    <tr>\n",
       "      <th>4</th>\n",
       "      <td>60</td>\n",
       "      <td>84.0</td>\n",
       "      <td>14260</td>\n",
       "      <td>8</td>\n",
       "      <td>5</td>\n",
       "      <td>2000</td>\n",
       "      <td>2000</td>\n",
       "      <td>350.0</td>\n",
       "      <td>655</td>\n",
       "      <td>0</td>\n",
       "      <td>...</td>\n",
       "      <td>192</td>\n",
       "      <td>84</td>\n",
       "      <td>0</td>\n",
       "      <td>0</td>\n",
       "      <td>0</td>\n",
       "      <td>0</td>\n",
       "      <td>0</td>\n",
       "      <td>12</td>\n",
       "      <td>2008</td>\n",
       "      <td>250000</td>\n",
       "    </tr>\n",
       "  </tbody>\n",
       "</table>\n",
       "<p>5 rows × 37 columns</p>\n",
       "</div>"
      ],
      "text/plain": [
       "   MSSubClass  LotFrontage  LotArea  OverallQual  OverallCond  YearBuilt  \\\n",
       "0          60         65.0     8450            7            5       2003   \n",
       "1          20         80.0     9600            6            8       1976   \n",
       "2          60         68.0    11250            7            5       2001   \n",
       "3          70         60.0     9550            7            5       1915   \n",
       "4          60         84.0    14260            8            5       2000   \n",
       "\n",
       "   YearRemodAdd  MasVnrArea  BsmtFinSF1  BsmtFinSF2  ...  WoodDeckSF  \\\n",
       "0          2003       196.0         706           0  ...           0   \n",
       "1          1976         0.0         978           0  ...         298   \n",
       "2          2002       162.0         486           0  ...           0   \n",
       "3          1970         0.0         216           0  ...           0   \n",
       "4          2000       350.0         655           0  ...         192   \n",
       "\n",
       "   OpenPorchSF  EnclosedPorch  3SsnPorch  ScreenPorch  PoolArea  MiscVal  \\\n",
       "0           61              0          0            0         0        0   \n",
       "1            0              0          0            0         0        0   \n",
       "2           42              0          0            0         0        0   \n",
       "3           35            272          0            0         0        0   \n",
       "4           84              0          0            0         0        0   \n",
       "\n",
       "   MoSold  YrSold  SalePrice  \n",
       "0       2    2008     208500  \n",
       "1       5    2007     181500  \n",
       "2       9    2008     223500  \n",
       "3       2    2006     140000  \n",
       "4      12    2008     250000  \n",
       "\n",
       "[5 rows x 37 columns]"
      ]
     },
     "execution_count": 7,
     "metadata": {},
     "output_type": "execute_result"
    }
   ],
   "source": [
    "# Select numerical columns from the training dataset\n",
    "numerical_cols = [cname for cname in data_train.columns if \n",
    "                  data_train[cname].dtype in ['int64', 'float64']]\n",
    "\n",
    "numerical_cols_test = [cname for cname in data_test.columns if \n",
    "                      data_test[cname].dtype in ['int64', 'float64']]\n",
    "\n",
    "data_train_num = data_train[numerical_cols].copy()\n",
    "data_test_num = data_test[numerical_cols_test].copy()\n",
    "\n",
    "data_train_num.head()"
   ]
  },
  {
   "cell_type": "markdown",
   "id": "962c847d",
   "metadata": {
    "papermill": {
     "duration": 0.104696,
     "end_time": "2022-05-11T12:54:15.916716",
     "exception": false,
     "start_time": "2022-05-11T12:54:15.812020",
     "status": "completed"
    },
    "tags": []
   },
   "source": [
    "## Distribution"
   ]
  },
  {
   "cell_type": "code",
   "execution_count": null,
   "id": "c11cff78",
   "metadata": {
    "execution": {
     "iopub.execute_input": "2022-05-11T12:54:16.127853Z",
     "iopub.status.busy": "2022-05-11T12:54:16.127300Z",
     "iopub.status.idle": "2022-05-11T12:54:25.497955Z",
     "shell.execute_reply": "2022-05-11T12:54:25.497005Z"
    },
    "papermill": {
     "duration": 9.478817,
     "end_time": "2022-05-11T12:54:25.499882",
     "exception": false,
     "start_time": "2022-05-11T12:54:16.021065",
     "status": "completed"
    },
    "tags": []
   },
   "outputs": [],
   "source": [
    "# Plot the distribution of all the numerical features\n",
    "fig_ = data_train_num.hist(figsize=(16, 20), bins=50, color=\"deepskyblue\",\n",
    "                           edgecolor=\"black\", xlabelsize=8, ylabelsize=8)"
   ]
  },
  {
   "cell_type": "markdown",
   "id": "6760b973",
   "metadata": {
    "papermill": {
     "duration": 0.185181,
     "end_time": "2022-05-11T12:54:25.843955",
     "exception": false,
     "start_time": "2022-05-11T12:54:25.658774",
     "status": "completed"
    },
    "tags": []
   },
   "source": [
    "Looking at the distriutions of each numerical feature, we see that there are a variety of distributions on show and that we have a mixture of discrete and continuous variables in our dataset. One thing that we can spot from these plots are variables that has small variation (i.e. they have very similar values) - these variables are likely to only have a small impact on the final price of the house. We will drop any variables where 95% of the values are similar or constant."
   ]
  },
  {
   "cell_type": "code",
   "execution_count": null,
   "id": "e23acadc",
   "metadata": {
    "execution": {
     "iopub.execute_input": "2022-05-11T12:54:26.201198Z",
     "iopub.status.busy": "2022-05-11T12:54:26.199981Z",
     "iopub.status.idle": "2022-05-11T12:54:26.219834Z",
     "shell.execute_reply": "2022-05-11T12:54:26.218832Z"
    },
    "papermill": {
     "duration": 0.191085,
     "end_time": "2022-05-11T12:54:26.222879",
     "exception": false,
     "start_time": "2022-05-11T12:54:26.031794",
     "status": "completed"
    },
    "tags": []
   },
   "outputs": [],
   "source": [
    "# Drop any quasi-constant features where 95% of the values are similar or constant\n",
    "sel = VarianceThreshold(threshold=0.05) # 0.05: drop column where 95% of the values are constant\n",
    "\n",
    "# The fit finds the features with constant variance\n",
    "sel.fit(data_train_num.iloc[:, :-1])\n",
    "\n",
    "\n",
    "# Get the number of features that are not constant\n",
    "print(f\"Number of retained features: {sum(sel.get_support())}\")\n",
    "print(f\"\\nNumber of quasi_constant features: {len(data_train_num.iloc[:, :-1].columns) - sum(sel.get_support())}\")\n",
    "\n",
    "quasi_constant_features_list = [x for x in data_train_num.iloc[:, :-1].columns if x not in data_train_num.iloc[:, :-1].columns[sel.get_support()]]\n",
    "\n",
    "print(f\"\\nQuasi-constant features to be dropped: {quasi_constant_features_list}\")"
   ]
  },
  {
   "cell_type": "markdown",
   "id": "75fe19ff",
   "metadata": {
    "papermill": {
     "duration": 0.171445,
     "end_time": "2022-05-11T12:54:26.564708",
     "exception": false,
     "start_time": "2022-05-11T12:54:26.393263",
     "status": "completed"
    },
    "tags": []
   },
   "source": [
    "From this, we see that only one variable \"KitchenAbvGr\" (Kitchens above the grade) has at least 95% of variables that are similar and constant, so this will be removed from both the training and test datasets."
   ]
  },
  {
   "cell_type": "code",
   "execution_count": null,
   "id": "d45806fc",
   "metadata": {
    "execution": {
     "iopub.execute_input": "2022-05-11T12:54:26.904490Z",
     "iopub.status.busy": "2022-05-11T12:54:26.904119Z",
     "iopub.status.idle": "2022-05-11T12:54:26.911482Z",
     "shell.execute_reply": "2022-05-11T12:54:26.910663Z"
    },
    "papermill": {
     "duration": 0.181252,
     "end_time": "2022-05-11T12:54:26.914159",
     "exception": false,
     "start_time": "2022-05-11T12:54:26.732907",
     "status": "completed"
    },
    "tags": []
   },
   "outputs": [],
   "source": [
    "# Drop quasi-constant features from both datasets\n",
    "data_train_num.drop(quasi_constant_features_list, axis=1, inplace=True)\n",
    "data_test_num.drop(quasi_constant_features_list, axis=1, inplace=True)"
   ]
  },
  {
   "cell_type": "code",
   "execution_count": null,
   "id": "081d179e",
   "metadata": {
    "execution": {
     "iopub.execute_input": "2022-05-11T12:54:27.255200Z",
     "iopub.status.busy": "2022-05-11T12:54:27.254676Z",
     "iopub.status.idle": "2022-05-11T12:54:27.260119Z",
     "shell.execute_reply": "2022-05-11T12:54:27.259365Z"
    },
    "papermill": {
     "duration": 0.178168,
     "end_time": "2022-05-11T12:54:27.262532",
     "exception": false,
     "start_time": "2022-05-11T12:54:27.084364",
     "status": "completed"
    },
    "tags": []
   },
   "outputs": [],
   "source": [
    "print(f\"Training set shape (Numerical features): {data_train_num.shape}\\n\")\n",
    "print(f\"Test set shape (Numerical features): {data_test_num.shape}\\n\")"
   ]
  },
  {
   "cell_type": "markdown",
   "id": "49428427",
   "metadata": {
    "papermill": {
     "duration": 0.179974,
     "end_time": "2022-05-11T12:54:27.612881",
     "exception": false,
     "start_time": "2022-05-11T12:54:27.432907",
     "status": "completed"
    },
    "tags": []
   },
   "source": [
    "## Correlation"
   ]
  },
  {
   "cell_type": "markdown",
   "id": "a8120735",
   "metadata": {
    "papermill": {
     "duration": 0.167387,
     "end_time": "2022-05-11T12:54:27.947752",
     "exception": false,
     "start_time": "2022-05-11T12:54:27.780365",
     "status": "completed"
    },
    "tags": []
   },
   "source": [
    "We will now produce a correlation heatmap showing the correlation between all of the numerical variables including the correlation of each numerical feature with \"SalePrice\". Any variables that have a low correlation with \"SalePrice\" is likely not to have a huge impact on the final sale price of the house, any variables with correlation less than |0.3| will be replaced by 0 for simplicity."
   ]
  },
  {
   "cell_type": "code",
   "execution_count": null,
   "id": "ba6341b0",
   "metadata": {
    "execution": {
     "iopub.execute_input": "2022-05-11T12:54:28.289607Z",
     "iopub.status.busy": "2022-05-11T12:54:28.289308Z",
     "iopub.status.idle": "2022-05-11T12:54:31.496683Z",
     "shell.execute_reply": "2022-05-11T12:54:31.495224Z"
    },
    "papermill": {
     "duration": 3.378568,
     "end_time": "2022-05-11T12:54:31.499729",
     "exception": false,
     "start_time": "2022-05-11T12:54:28.121161",
     "status": "completed"
    },
    "tags": []
   },
   "outputs": [],
   "source": [
    "# Heatmap for all the remaining numerical data including the taget 'SalePrice'\n",
    "\n",
    "# Define the heatmap parameters\n",
    "pd.options.display.float_format = \"{:,.2f}\".format\n",
    "\n",
    "# Define correlation matrix\n",
    "corr_matrix = data_train_num.corr()\n",
    "\n",
    "# Replace any correlation < |0.3| by 0 for a better visibility\n",
    "corr_matrix[(corr_matrix < 0.3) & (corr_matrix > -0.3)] = 0\n",
    "\n",
    "# Mask the upper part of the heatmap\n",
    "mask = np.triu(np.ones_like(corr_matrix, dtype=bool))\n",
    "\n",
    "# Choose the color map\n",
    "cmap = \"viridis\"\n",
    "\n",
    "# plot the heatmap\n",
    "sns.set(rc = {'figure.figsize':(20,15)})\n",
    "sns.heatmap(corr_matrix, mask=mask, vmax=1.0, vmin=-1.0, linewidths=0.1,\n",
    "            annot_kws={\"size\": 9, \"color\": \"black\"}, square=True, cmap=cmap, annot=True)"
   ]
  },
  {
   "cell_type": "markdown",
   "id": "ddfc69bd",
   "metadata": {
    "papermill": {
     "duration": 0.170362,
     "end_time": "2022-05-11T12:54:31.843877",
     "exception": false,
     "start_time": "2022-05-11T12:54:31.673515",
     "status": "completed"
    },
    "tags": []
   },
   "source": [
    "Looking at the heatmap above, we see that 18 of these numerical features has some noticeable correlation with \"SalePrice\". There are also a few variables that have a very strong positive correlation (of at least 0.8) including\n",
    "\n",
    "* \"GarageArea\" and \"GarageCars\" (0.88)\n",
    "* \"GarageYrBlt\" and \"YearBuilt\" (0.83)\n",
    "* \"TotRmsAbvGrd\" and \"GrLivArea\" (0.83)\n",
    "* \"1stFlrSF\" and \"TotalBsmtSF\" (0.82)\n",
    "\n",
    "The other correlations will be dealt with later, but first we will focus on features that have a correlaton of more than |0.3| with \"SalePrice\"."
   ]
  },
  {
   "cell_type": "code",
   "execution_count": null,
   "id": "af49135e",
   "metadata": {
    "execution": {
     "iopub.execute_input": "2022-05-11T12:54:32.204140Z",
     "iopub.status.busy": "2022-05-11T12:54:32.203772Z",
     "iopub.status.idle": "2022-05-11T12:54:32.222215Z",
     "shell.execute_reply": "2022-05-11T12:54:32.221447Z"
    },
    "papermill": {
     "duration": 0.195558,
     "end_time": "2022-05-11T12:54:32.224773",
     "exception": false,
     "start_time": "2022-05-11T12:54:32.029215",
     "status": "completed"
    },
    "tags": []
   },
   "outputs": [],
   "source": [
    "# Select features where the correlation with 'SalePrice' is higher than |0.3|\n",
    "# -1 because the latest row is SalePrice\n",
    "data_num_corr = data_train_num.corr()[\"SalePrice\"][:-1]\n",
    "\n",
    "# Correlated features (r2 > 0.5)\n",
    "high_features_list = data_num_corr[abs(data_num_corr) >= 0.5].sort_values(ascending=False)\n",
    "print(f\"{len(high_features_list)} strongly correlated values with SalePrice:\\n{high_features_list}\\n\")\n",
    "\n",
    "# Correlated features (0.3 < r2 < 0.5)\n",
    "low_features_list = data_num_corr[(abs(data_num_corr) < 0.5) & (abs(data_num_corr) >= 0.3)].sort_values(ascending=False)\n",
    "print(f\"{len(low_features_list)} slightly correlated values with SalePrice:\\n{low_features_list}\")"
   ]
  },
  {
   "cell_type": "code",
   "execution_count": null,
   "id": "dd77cadc",
   "metadata": {
    "execution": {
     "iopub.execute_input": "2022-05-11T12:54:32.571573Z",
     "iopub.status.busy": "2022-05-11T12:54:32.571150Z",
     "iopub.status.idle": "2022-05-11T12:54:38.126191Z",
     "shell.execute_reply": "2022-05-11T12:54:38.125005Z"
    },
    "papermill": {
     "duration": 5.732123,
     "end_time": "2022-05-11T12:54:38.128681",
     "exception": false,
     "start_time": "2022-05-11T12:54:32.396558",
     "status": "completed"
    },
    "tags": []
   },
   "outputs": [],
   "source": [
    "# Features with high correlation (higher than 0.5)\n",
    "strong_features = data_num_corr[abs(data_num_corr) >= 0.5].index.tolist()\n",
    "strong_features.append(\"SalePrice\")\n",
    "\n",
    "data_strong_features = data_train_num.loc[:, strong_features]\n",
    "\n",
    "plt.style.use(\"seaborn-whitegrid\")  # define figures style\n",
    "fig, ax = plt.subplots(round(len(strong_features) / 3), 3)\n",
    "\n",
    "for i, ax in enumerate(fig.axes):\n",
    "    # plot the correlation of each feature with SalePrice\n",
    "    if i < len(strong_features)-1:\n",
    "        sns.regplot(x=strong_features[i], y=\"SalePrice\", data=data_strong_features, ax=ax, scatter_kws={\n",
    "                    \"color\": \"deepskyblue\"}, line_kws={\"color\": \"black\"})"
   ]
  },
  {
   "cell_type": "code",
   "execution_count": null,
   "id": "d5664484",
   "metadata": {
    "execution": {
     "iopub.execute_input": "2022-05-11T12:54:38.492153Z",
     "iopub.status.busy": "2022-05-11T12:54:38.491632Z",
     "iopub.status.idle": "2022-05-11T12:54:43.393764Z",
     "shell.execute_reply": "2022-05-11T12:54:43.392462Z"
    },
    "papermill": {
     "duration": 5.089586,
     "end_time": "2022-05-11T12:54:43.396800",
     "exception": false,
     "start_time": "2022-05-11T12:54:38.307214",
     "status": "completed"
    },
    "tags": []
   },
   "outputs": [],
   "source": [
    "# Features with low correlation (between 0.3 and 0.5)\n",
    "low_features = data_num_corr[(abs(data_num_corr) >= 0.3) & (abs(data_num_corr) < 0.5)].index.tolist()\n",
    "low_features.append(\"SalePrice\")\n",
    "\n",
    "data_low_features = data_train_num.loc[:, low_features]\n",
    "\n",
    "plt.style.use(\"seaborn-whitegrid\")  # define figures style\n",
    "fig, ax = plt.subplots(round(len(low_features) / 3), 3)\n",
    "\n",
    "for i, ax in enumerate(fig.axes):\n",
    "    # plot the correlation of each feature with SalePrice\n",
    "    if i < len(low_features) - 1:\n",
    "        sns.regplot(x=low_features[i], y=\"SalePrice\", data=data_low_features, ax=ax, scatter_kws={\n",
    "                    \"color\": \"deepskyblue\"}, line_kws={\"color\": \"black\"},)"
   ]
  },
  {
   "cell_type": "markdown",
   "id": "30fb2577",
   "metadata": {
    "papermill": {
     "duration": 0.181256,
     "end_time": "2022-05-11T12:54:43.761582",
     "exception": false,
     "start_time": "2022-05-11T12:54:43.580326",
     "status": "completed"
    },
    "tags": []
   },
   "source": [
    "Looking at some of these scatter plots related to the surface area of certain rooms in the house (\"1stFlrSF\", \"TotalBsmtSF\", \"GrLivingArea\"), there is at least one house whose price is relatively inexpensive given their surface area (located on the bottom right-hand-side of those graphs) which suggests the presence of outliers in the dataset. These will be dealt with in a future version of this project, but for now we will keep these numerical features shown in the scatter plot above."
   ]
  },
  {
   "cell_type": "code",
   "execution_count": null,
   "id": "9bae1dd4",
   "metadata": {
    "execution": {
     "iopub.execute_input": "2022-05-11T12:54:44.125070Z",
     "iopub.status.busy": "2022-05-11T12:54:44.124784Z",
     "iopub.status.idle": "2022-05-11T12:54:44.133318Z",
     "shell.execute_reply": "2022-05-11T12:54:44.131621Z"
    },
    "papermill": {
     "duration": 0.193366,
     "end_time": "2022-05-11T12:54:44.135577",
     "exception": false,
     "start_time": "2022-05-11T12:54:43.942211",
     "status": "completed"
    },
    "tags": []
   },
   "outputs": [],
   "source": [
    "# Define the list of numerical fetaures to keep\n",
    "list_of_numerical_features = strong_features[:-1] + low_features\n",
    "\n",
    "print(\"List of features to be kept in the dataset:\")\n",
    "print(list_of_numerical_features)\n",
    "\n",
    "# Select these features form our training set\n",
    "data_train_num = data_train_num.loc[:, list_of_numerical_features]\n",
    "\n",
    "# Select the same features from the test set (-1 -> except 'SalePrice')\n",
    "data_test_num = data_test_num.loc[:, list_of_numerical_features[:-1]]"
   ]
  },
  {
   "cell_type": "markdown",
   "id": "5682ff16",
   "metadata": {
    "papermill": {
     "duration": 0.181374,
     "end_time": "2022-05-11T12:54:44.497459",
     "exception": false,
     "start_time": "2022-05-11T12:54:44.316085",
     "status": "completed"
    },
    "tags": []
   },
   "source": [
    "Looking at the other correlation values beyond \"SalePrice\", since the correlation between \"GarageCars\" and \"GarageArea\" is so high, \"GarageCars\" will be dropped from both datasets as this is not likely to add in any relevant new information with regards to the final price of the house."
   ]
  },
  {
   "cell_type": "code",
   "execution_count": null,
   "id": "47c5ab9e",
   "metadata": {
    "execution": {
     "iopub.execute_input": "2022-05-11T12:54:44.862254Z",
     "iopub.status.busy": "2022-05-11T12:54:44.861094Z",
     "iopub.status.idle": "2022-05-11T12:54:44.868086Z",
     "shell.execute_reply": "2022-05-11T12:54:44.867079Z"
    },
    "papermill": {
     "duration": 0.190965,
     "end_time": "2022-05-11T12:54:44.870354",
     "exception": false,
     "start_time": "2022-05-11T12:54:44.679389",
     "status": "completed"
    },
    "tags": []
   },
   "outputs": [],
   "source": [
    "data_train_num.drop([\"GarageCars\"], axis = 1, inplace = True)\n",
    "data_test_num.drop([\"GarageCars\"], axis = 1, inplace = True)"
   ]
  },
  {
   "cell_type": "code",
   "execution_count": null,
   "id": "58a07440",
   "metadata": {
    "execution": {
     "iopub.execute_input": "2022-05-11T12:54:45.112635Z",
     "iopub.status.busy": "2022-05-11T12:54:45.112123Z",
     "iopub.status.idle": "2022-05-11T12:54:45.117197Z",
     "shell.execute_reply": "2022-05-11T12:54:45.116079Z"
    },
    "papermill": {
     "duration": 0.129145,
     "end_time": "2022-05-11T12:54:45.119603",
     "exception": false,
     "start_time": "2022-05-11T12:54:44.990458",
     "status": "completed"
    },
    "tags": []
   },
   "outputs": [],
   "source": [
    "print(f\"Training set shape (Numerical features): {data_train_num.shape}\\n\")\n",
    "print(f\"Test set shape (Numerical features): {data_test_num.shape}\\n\")"
   ]
  },
  {
   "cell_type": "markdown",
   "id": "e5658113",
   "metadata": {
    "papermill": {
     "duration": 0.119575,
     "end_time": "2022-05-11T12:54:45.359065",
     "exception": false,
     "start_time": "2022-05-11T12:54:45.239490",
     "status": "completed"
    },
    "tags": []
   },
   "source": [
    "## Missing Values"
   ]
  },
  {
   "cell_type": "code",
   "execution_count": null,
   "id": "47d4f508",
   "metadata": {
    "execution": {
     "iopub.execute_input": "2022-05-11T12:54:45.606532Z",
     "iopub.status.busy": "2022-05-11T12:54:45.606145Z",
     "iopub.status.idle": "2022-05-11T12:54:45.920291Z",
     "shell.execute_reply": "2022-05-11T12:54:45.918597Z"
    },
    "papermill": {
     "duration": 0.441268,
     "end_time": "2022-05-11T12:54:45.923123",
     "exception": false,
     "start_time": "2022-05-11T12:54:45.481855",
     "status": "completed"
    },
    "tags": []
   },
   "outputs": [],
   "source": [
    "# Get names of columns with missing values (training set)\n",
    "cols_with_missing = [col for col in data_train_num.columns\n",
    "                     if data_train_num[col].isnull().any()]\n",
    "\n",
    "print(\"Columns with missing (NA) values:\")\n",
    "print(cols_with_missing)\n",
    "\n",
    "# Count how many NA values are in each of those columns\n",
    "cols_nan_count = list(map(lambda col: round(data_train_num[col].isna().sum()*100/len(data_train_num)), cols_with_missing))\n",
    "\n",
    "\n",
    "tab = pd.DataFrame(cols_with_missing, columns=[\"Column\"])\n",
    "tab[\"Percent_NaN\"] = cols_nan_count\n",
    "tab.sort_values(by=[\"Percent_NaN\"], ascending=False, inplace=True)\n",
    "\n",
    "\n",
    "# Define figure parameters\n",
    "sns.set(rc={\"figure.figsize\": (10, 7)})\n",
    "sns.set_style(\"whitegrid\")\n",
    "\n",
    "# Plot results\n",
    "p = sns.barplot(x=\"Percent_NaN\", y=\"Column\", data=tab,\n",
    "                edgecolor=\"black\", color=\"deepskyblue\")\n",
    "\n",
    "p.set_title(\"Percent of NaN per column of the train set\\n\", fontsize=20)\n",
    "p.set_xlabel(\"\\nPercent of NaN (%)\", fontsize=20)\n",
    "p.set_ylabel(\"Column Name\\n\", fontsize=20)"
   ]
  },
  {
   "cell_type": "markdown",
   "id": "e78ea5fa",
   "metadata": {
    "papermill": {
     "duration": 0.125948,
     "end_time": "2022-05-11T12:54:46.180321",
     "exception": false,
     "start_time": "2022-05-11T12:54:46.054373",
     "status": "completed"
    },
    "tags": []
   },
   "source": [
    "From the updated numerical features training set, we see that there are three columns with missing values, with \"LotFrontage\" having around 18% missing values. The missing values from these columns will be imputed where they will be replaced with the median value from each column (which is sensible given that one of the columns is \"GarageYrBlt\" where the values are strictly discrete, plus they're less affected by outliers)."
   ]
  },
  {
   "cell_type": "code",
   "execution_count": null,
   "id": "7d5156ce",
   "metadata": {
    "execution": {
     "iopub.execute_input": "2022-05-11T12:54:46.434600Z",
     "iopub.status.busy": "2022-05-11T12:54:46.434306Z",
     "iopub.status.idle": "2022-05-11T12:54:46.450781Z",
     "shell.execute_reply": "2022-05-11T12:54:46.449013Z"
    },
    "papermill": {
     "duration": 0.14722,
     "end_time": "2022-05-11T12:54:46.453120",
     "exception": false,
     "start_time": "2022-05-11T12:54:46.305900",
     "status": "completed"
    },
    "tags": []
   },
   "outputs": [],
   "source": [
    "# Imputation of missing values (NaNs) with SimpleImputer\n",
    "my_imputer = SimpleImputer(strategy=\"median\")\n",
    "data_train_imputed = pd.DataFrame(my_imputer.fit_transform(data_train_num))\n",
    "data_train_imputed.columns = data_train_num.columns"
   ]
  },
  {
   "cell_type": "markdown",
   "id": "0bfdff48",
   "metadata": {
    "papermill": {
     "duration": 0.125976,
     "end_time": "2022-05-11T12:54:46.707755",
     "exception": false,
     "start_time": "2022-05-11T12:54:46.581779",
     "status": "completed"
    },
    "tags": []
   },
   "source": [
    "We will also check the distributions to ensure that the distribution of these variables after imputation is not heavily impacted by these changes."
   ]
  },
  {
   "cell_type": "code",
   "execution_count": null,
   "id": "b6930881",
   "metadata": {
    "execution": {
     "iopub.execute_input": "2022-05-11T12:54:46.963501Z",
     "iopub.status.busy": "2022-05-11T12:54:46.963177Z",
     "iopub.status.idle": "2022-05-11T12:54:48.880799Z",
     "shell.execute_reply": "2022-05-11T12:54:48.879529Z"
    },
    "papermill": {
     "duration": 2.051556,
     "end_time": "2022-05-11T12:54:48.883237",
     "exception": false,
     "start_time": "2022-05-11T12:54:46.831681",
     "status": "completed"
    },
    "tags": []
   },
   "outputs": [],
   "source": [
    "# Check the distribution of each imputed feature before and after imputation\n",
    "\n",
    "# Define figure parameters\n",
    "sns.set(rc={\"figure.figsize\": (14, 12)})\n",
    "sns.set_style(\"whitegrid\")\n",
    "fig, axes = plt.subplots(3, 2)\n",
    "\n",
    "# Plot the results\n",
    "for feature, fig_pos in zip([\"LotFrontage\", \"GarageYrBlt\", \"MasVnrArea\"], [0, 1, 2]):\n",
    "\n",
    "    \"\"\"Features distribution before and after imputation\"\"\"\n",
    "\n",
    "    # before imputation\n",
    "    p = sns.histplot(ax=axes[fig_pos, 0], x=data_train_num[feature],\n",
    "                     kde=True, bins=30, color=\"deepskyblue\", edgecolor=\"black\")\n",
    "    p.set_ylabel(f\"Before imputation\", fontsize=14)\n",
    "\n",
    "    # after imputation\n",
    "    q = sns.histplot(ax=axes[fig_pos, 1], x=data_train_imputed[feature],\n",
    "                     kde=True, bins=30, color=\"darkorange\", edgecolor=\"black\")\n",
    "    q.set_ylabel(f\"After imputation\", fontsize=14)"
   ]
  },
  {
   "cell_type": "markdown",
   "id": "8c12c158",
   "metadata": {
    "papermill": {
     "duration": 0.126172,
     "end_time": "2022-05-11T12:54:49.137215",
     "exception": false,
     "start_time": "2022-05-11T12:54:49.011043",
     "status": "completed"
    },
    "tags": []
   },
   "source": [
    "Looking at the distribution plots, we see that the distributions for \"LotFrontage\" and \"GarageYrBlt\" have been changed by imputation (with heavy bias towards the median for \"LotFrontage\"). Since there is noticeable bias towards the median class for both \"LotFrontage\" and \"GarageYrBlt\", these features will be removed from both datasets. The distribution of \"MasVnrArea\" has not changed that much at all after imputation, and will be kept on."
   ]
  },
  {
   "cell_type": "code",
   "execution_count": null,
   "id": "525611d3",
   "metadata": {
    "execution": {
     "iopub.execute_input": "2022-05-11T12:54:49.480034Z",
     "iopub.status.busy": "2022-05-11T12:54:49.479036Z",
     "iopub.status.idle": "2022-05-11T12:54:49.500374Z",
     "shell.execute_reply": "2022-05-11T12:54:49.499337Z"
    },
    "papermill": {
     "duration": 0.219428,
     "end_time": "2022-05-11T12:54:49.503164",
     "exception": false,
     "start_time": "2022-05-11T12:54:49.283736",
     "status": "completed"
    },
    "tags": []
   },
   "outputs": [],
   "source": [
    "# Drop 'LotFrontage' and 'GarageYrBlt'\n",
    "data_train_imputed.drop([\"LotFrontage\", \"GarageYrBlt\"], axis=1, inplace=True)\n",
    "data_train_imputed.head()"
   ]
  },
  {
   "cell_type": "code",
   "execution_count": null,
   "id": "8d687b43",
   "metadata": {
    "execution": {
     "iopub.execute_input": "2022-05-11T12:54:49.893064Z",
     "iopub.status.busy": "2022-05-11T12:54:49.892018Z",
     "iopub.status.idle": "2022-05-11T12:54:49.897432Z",
     "shell.execute_reply": "2022-05-11T12:54:49.896862Z"
    },
    "papermill": {
     "duration": 0.200622,
     "end_time": "2022-05-11T12:54:49.899739",
     "exception": false,
     "start_time": "2022-05-11T12:54:49.699117",
     "status": "completed"
    },
    "tags": []
   },
   "outputs": [],
   "source": [
    "# Drop these same features from test set\n",
    "data_test_num.drop([\"LotFrontage\", \"GarageYrBlt\"], axis=1, inplace=True)"
   ]
  },
  {
   "cell_type": "markdown",
   "id": "15f911b7",
   "metadata": {
    "papermill": {
     "duration": 0.189252,
     "end_time": "2022-05-11T12:54:50.277548",
     "exception": false,
     "start_time": "2022-05-11T12:54:50.088296",
     "status": "completed"
    },
    "tags": []
   },
   "source": [
    "Now we will deal with missing values from the test dataset."
   ]
  },
  {
   "cell_type": "code",
   "execution_count": null,
   "id": "92b682f9",
   "metadata": {
    "execution": {
     "iopub.execute_input": "2022-05-11T12:54:50.535494Z",
     "iopub.status.busy": "2022-05-11T12:54:50.535254Z",
     "iopub.status.idle": "2022-05-11T12:54:50.819825Z",
     "shell.execute_reply": "2022-05-11T12:54:50.818795Z"
    },
    "papermill": {
     "duration": 0.410208,
     "end_time": "2022-05-11T12:54:50.822471",
     "exception": false,
     "start_time": "2022-05-11T12:54:50.412263",
     "status": "completed"
    },
    "tags": []
   },
   "outputs": [],
   "source": [
    "# Get names of columns with missing values (test set)\n",
    "cols_with_missing_b = [col for col in data_test_num.columns\n",
    "                       if data_test_num[col].isnull().any()]\n",
    "\n",
    "print(\"Columns with missing (NA) values:\")\n",
    "print(cols_with_missing_b)\n",
    "\n",
    "# Count how many NA values are in each of those columns\n",
    "cols_nan_count_b = list(map(lambda col: round(data_test_num[col].isna().sum()*100/len(data_test_num)), cols_with_missing_b))\n",
    "\n",
    "\n",
    "tab = pd.DataFrame(cols_with_missing_b, columns=[\"Column\"])\n",
    "tab[\"Percent_NaN\"] = cols_nan_count_b\n",
    "tab.sort_values(by=[\"Percent_NaN\"], ascending=False, inplace=True)\n",
    "\n",
    "\n",
    "# Define figure parameters\n",
    "sns.set(rc={\"figure.figsize\": (10, 7)})\n",
    "sns.set_style(\"whitegrid\")\n",
    "\n",
    "# Plot results\n",
    "p = sns.barplot(x=\"Percent_NaN\", y=\"Column\", data=tab,\n",
    "                edgecolor=\"black\", color=\"deepskyblue\")\n",
    "\n",
    "p.set_title(\"Percent of NaN per column of the train set\\n\", fontsize=20)\n",
    "p.set_xlabel(\"\\nPercent of NaN (%)\", fontsize=20)\n",
    "p.set_ylabel(\"Column Name\\n\", fontsize=20)"
   ]
  },
  {
   "cell_type": "markdown",
   "id": "0a1b775d",
   "metadata": {
    "papermill": {
     "duration": 0.19006,
     "end_time": "2022-05-11T12:54:51.207179",
     "exception": false,
     "start_time": "2022-05-11T12:54:51.017119",
     "status": "completed"
    },
    "tags": []
   },
   "source": [
    "Here there are 4 feature variables that have missing values, but they all have a very small percentage of missing values. Each of these values will be filled in with the median from each perspective column."
   ]
  },
  {
   "cell_type": "code",
   "execution_count": null,
   "id": "3e9fdced",
   "metadata": {
    "execution": {
     "iopub.execute_input": "2022-05-11T12:54:51.532330Z",
     "iopub.status.busy": "2022-05-11T12:54:51.531700Z",
     "iopub.status.idle": "2022-05-11T12:54:51.544406Z",
     "shell.execute_reply": "2022-05-11T12:54:51.543705Z"
    },
    "papermill": {
     "duration": 0.150538,
     "end_time": "2022-05-11T12:54:51.546579",
     "exception": false,
     "start_time": "2022-05-11T12:54:51.396041",
     "status": "completed"
    },
    "tags": []
   },
   "outputs": [],
   "source": [
    "# Imputation of missing values (NaNs) with SimpleImputer\n",
    "my_imputer = SimpleImputer(strategy=\"median\")\n",
    "data_test_imputed = pd.DataFrame(my_imputer.fit_transform(data_test_num))\n",
    "data_test_imputed.columns = data_test_num.columns"
   ]
  },
  {
   "cell_type": "code",
   "execution_count": null,
   "id": "b63f3fc5",
   "metadata": {
    "execution": {
     "iopub.execute_input": "2022-05-11T12:54:51.805032Z",
     "iopub.status.busy": "2022-05-11T12:54:51.803781Z",
     "iopub.status.idle": "2022-05-11T12:54:54.360303Z",
     "shell.execute_reply": "2022-05-11T12:54:54.359096Z"
    },
    "papermill": {
     "duration": 2.689808,
     "end_time": "2022-05-11T12:54:54.363181",
     "exception": false,
     "start_time": "2022-05-11T12:54:51.673373",
     "status": "completed"
    },
    "tags": []
   },
   "outputs": [],
   "source": [
    "# Check the distribution of each imputed feature before and after imputation\n",
    "\n",
    "# Define figure parameters\n",
    "sns.set(rc={\"figure.figsize\": (20, 18)})\n",
    "sns.set_style(\"whitegrid\")\n",
    "fig, axes = plt.subplots(4, 2)\n",
    "\n",
    "# Plot the results\n",
    "for feature, fig_pos in zip(tab[\"Column\"].tolist(), range(0, 6)):\n",
    "\n",
    "    \"\"\"Features distribution before and after imputation\"\"\"\n",
    "\n",
    "    # before imputation\n",
    "    p = sns.histplot(ax=axes[fig_pos, 0], x=data_test_num[feature],\n",
    "                     kde=True, bins=30, color=\"deepskyblue\", edgecolor=\"black\")\n",
    "    p.set_ylabel(f\"Before imputation\", fontsize=14)\n",
    "\n",
    "    # after imputation\n",
    "    q = sns.histplot(ax=axes[fig_pos, 1], x=data_test_imputed[feature],\n",
    "                     kde=True, bins=30, color=\"darkorange\", edgecolor=\"black\",)\n",
    "    q.set_ylabel(f\"After imputation\", fontsize=14)"
   ]
  },
  {
   "cell_type": "markdown",
   "id": "cda53503",
   "metadata": {
    "papermill": {
     "duration": 0.130089,
     "end_time": "2022-05-11T12:54:54.623774",
     "exception": false,
     "start_time": "2022-05-11T12:54:54.493685",
     "status": "completed"
    },
    "tags": []
   },
   "source": [
    "The distribution of each of these variables before and after imputation does not really change at all, so all of these variables will be kept on. The shape of both datasets consisting of numerical features is shown below."
   ]
  },
  {
   "cell_type": "code",
   "execution_count": null,
   "id": "7c4157e5",
   "metadata": {
    "execution": {
     "iopub.execute_input": "2022-05-11T12:54:54.899231Z",
     "iopub.status.busy": "2022-05-11T12:54:54.898666Z",
     "iopub.status.idle": "2022-05-11T12:54:54.905240Z",
     "shell.execute_reply": "2022-05-11T12:54:54.903745Z"
    },
    "papermill": {
     "duration": 0.156303,
     "end_time": "2022-05-11T12:54:54.909465",
     "exception": false,
     "start_time": "2022-05-11T12:54:54.753162",
     "status": "completed"
    },
    "tags": []
   },
   "outputs": [],
   "source": [
    "print(f\"Training set shape (Numerical features): {data_train_imputed.shape}\\n\")\n",
    "print(f\"Test set shape (Numerical features): {data_test_imputed.shape}\\n\")"
   ]
  },
  {
   "cell_type": "markdown",
   "id": "caf8b6b5",
   "metadata": {
    "papermill": {
     "duration": 0.201533,
     "end_time": "2022-05-11T12:54:55.310366",
     "exception": false,
     "start_time": "2022-05-11T12:54:55.108833",
     "status": "completed"
    },
    "tags": []
   },
   "source": [
    "# Categorical Data"
   ]
  },
  {
   "cell_type": "markdown",
   "id": "ea0a8d34",
   "metadata": {
    "papermill": {
     "duration": 0.207054,
     "end_time": "2022-05-11T12:54:55.717085",
     "exception": false,
     "start_time": "2022-05-11T12:54:55.510031",
     "status": "completed"
    },
    "tags": []
   },
   "source": [
    "Now we focus on the categorical features from each dataset. Firstly we separate the categorical features from both datasets into their own DataFrames data_train_categ and data_test_categ."
   ]
  },
  {
   "cell_type": "code",
   "execution_count": null,
   "id": "766247c1",
   "metadata": {
    "execution": {
     "iopub.execute_input": "2022-05-11T12:54:56.127845Z",
     "iopub.status.busy": "2022-05-11T12:54:56.127030Z",
     "iopub.status.idle": "2022-05-11T12:54:56.144515Z",
     "shell.execute_reply": "2022-05-11T12:54:56.143041Z"
    },
    "papermill": {
     "duration": 0.228545,
     "end_time": "2022-05-11T12:54:56.147634",
     "exception": false,
     "start_time": "2022-05-11T12:54:55.919089",
     "status": "completed"
    },
    "tags": []
   },
   "outputs": [],
   "source": [
    "# Categorical to Quantitative relationship\n",
    "categorical_features = [\n",
    "    i for i in data_train.columns if data_train.dtypes[i] == \"object\"]\n",
    "categorical_features.append(\"SalePrice\")\n",
    "\n",
    "# Train set\n",
    "data_train_categ = data_train[categorical_features]\n",
    "\n",
    "# Test set (-1 because test set don't have 'Sale Price')\n",
    "data_test_categ = data_test[categorical_features[:-1]]"
   ]
  },
  {
   "cell_type": "code",
   "execution_count": null,
   "id": "fcd952f3",
   "metadata": {
    "execution": {
     "iopub.execute_input": "2022-05-11T12:54:56.556673Z",
     "iopub.status.busy": "2022-05-11T12:54:56.555789Z",
     "iopub.status.idle": "2022-05-11T12:54:56.562427Z",
     "shell.execute_reply": "2022-05-11T12:54:56.561088Z"
    },
    "papermill": {
     "duration": 0.211655,
     "end_time": "2022-05-11T12:54:56.565489",
     "exception": false,
     "start_time": "2022-05-11T12:54:56.353834",
     "status": "completed"
    },
    "tags": []
   },
   "outputs": [],
   "source": [
    "print(f\"Training set shape (Categorical features): {data_train_categ.shape}\\n\")\n",
    "print(f\"Test set shape (Categorical features): {data_test_categ.shape}\\n\")"
   ]
  },
  {
   "cell_type": "markdown",
   "id": "28a585ee",
   "metadata": {
    "papermill": {
     "duration": 0.199682,
     "end_time": "2022-05-11T12:54:56.962655",
     "exception": false,
     "start_time": "2022-05-11T12:54:56.762973",
     "status": "completed"
    },
    "tags": []
   },
   "source": [
    "## Distribution"
   ]
  },
  {
   "cell_type": "code",
   "execution_count": null,
   "id": "1569d1f8",
   "metadata": {
    "execution": {
     "iopub.execute_input": "2022-05-11T12:54:57.377095Z",
     "iopub.status.busy": "2022-05-11T12:54:57.376487Z",
     "iopub.status.idle": "2022-05-11T12:55:07.363340Z",
     "shell.execute_reply": "2022-05-11T12:55:07.361657Z"
    },
    "papermill": {
     "duration": 10.197564,
     "end_time": "2022-05-11T12:55:07.366780",
     "exception": false,
     "start_time": "2022-05-11T12:54:57.169216",
     "status": "completed"
    },
    "scrolled": false,
    "tags": []
   },
   "outputs": [],
   "source": [
    "# Countplot for each of the categorical features in the training set\n",
    "# Determine which categorical features are dominated by one outcome\n",
    "fig, axes = plt.subplots(round(len(data_train_categ.columns) / 3), 3, figsize=(12, 35))\n",
    "\n",
    "for i, ax in enumerate(fig.axes):\n",
    "    # plot barplot of each feature\n",
    "    if i < len(data_train_categ.columns) - 1:\n",
    "        ax.set_xticklabels(ax.xaxis.get_majorticklabels(), rotation=90)\n",
    "        sns.countplot(x=data_train_categ.columns[i], alpha=0.7, data=data_train_categ, ax=ax)\n",
    "\n",
    "fig.tight_layout()"
   ]
  },
  {
   "cell_type": "markdown",
   "id": "4d0dad1a",
   "metadata": {
    "papermill": {
     "duration": 0.207181,
     "end_time": "2022-05-11T12:55:07.781278",
     "exception": false,
     "start_time": "2022-05-11T12:55:07.574097",
     "status": "completed"
    },
    "tags": []
   },
   "source": [
    "Looking at the Count Plots above, we see that some of these variables are highly dominated by one feature. Since those variables will have minimal impact on the final house prices, those variables dominated by one outcome will be removed from both datasets."
   ]
  },
  {
   "cell_type": "code",
   "execution_count": null,
   "id": "489804b0",
   "metadata": {
    "execution": {
     "iopub.execute_input": "2022-05-11T12:55:08.198052Z",
     "iopub.status.busy": "2022-05-11T12:55:08.197718Z",
     "iopub.status.idle": "2022-05-11T12:55:08.212979Z",
     "shell.execute_reply": "2022-05-11T12:55:08.211835Z"
    },
    "papermill": {
     "duration": 0.224614,
     "end_time": "2022-05-11T12:55:08.216155",
     "exception": false,
     "start_time": "2022-05-11T12:55:07.991541",
     "status": "completed"
    },
    "tags": []
   },
   "outputs": [],
   "source": [
    "cols_to_drop = [\n",
    "    'Street',\n",
    "    'LandContour',\n",
    "    'Utilities',\n",
    "    'LandSlope',\n",
    "    'Condition2',\n",
    "    'RoofMatl',\n",
    "    'BsmtCond',\n",
    "    'BsmtFinType2',\n",
    "    'Heating',\n",
    "    'CentralAir',\n",
    "    'Electrical',\n",
    "    'Functional',\n",
    "    'GarageQual',\n",
    "    'GarageCond',\n",
    "    'PavedDrive'\n",
    "]\n",
    "\n",
    "# Training set\n",
    "data_train_categ.drop(cols_to_drop, axis=1, inplace=True)\n",
    "\n",
    "# Test set\n",
    "data_test_categ.drop(cols_to_drop, axis=1, inplace=True)"
   ]
  },
  {
   "cell_type": "code",
   "execution_count": null,
   "id": "c5c01caa",
   "metadata": {
    "execution": {
     "iopub.execute_input": "2022-05-11T12:55:08.646665Z",
     "iopub.status.busy": "2022-05-11T12:55:08.646351Z",
     "iopub.status.idle": "2022-05-11T12:55:08.652871Z",
     "shell.execute_reply": "2022-05-11T12:55:08.651586Z"
    },
    "papermill": {
     "duration": 0.225434,
     "end_time": "2022-05-11T12:55:08.656521",
     "exception": false,
     "start_time": "2022-05-11T12:55:08.431087",
     "status": "completed"
    },
    "tags": []
   },
   "outputs": [],
   "source": [
    "print(f\"Training set shape (Categorical features): {data_train_categ.shape}\\n\")\n",
    "print(f\"Test set shape (Categorical features): {data_test_categ.shape}\\n\")"
   ]
  },
  {
   "cell_type": "markdown",
   "id": "ef243fab",
   "metadata": {
    "papermill": {
     "duration": 0.220541,
     "end_time": "2022-05-11T12:55:09.101492",
     "exception": false,
     "start_time": "2022-05-11T12:55:08.880951",
     "status": "completed"
    },
    "tags": []
   },
   "source": [
    "## Variation of target variable with each categorical feature"
   ]
  },
  {
   "cell_type": "code",
   "execution_count": null,
   "id": "03b636e8",
   "metadata": {
    "execution": {
     "iopub.execute_input": "2022-05-11T12:55:09.534832Z",
     "iopub.status.busy": "2022-05-11T12:55:09.534542Z",
     "iopub.status.idle": "2022-05-11T12:55:18.361590Z",
     "shell.execute_reply": "2022-05-11T12:55:18.359945Z"
    },
    "papermill": {
     "duration": 9.050065,
     "end_time": "2022-05-11T12:55:18.366147",
     "exception": false,
     "start_time": "2022-05-11T12:55:09.316082",
     "status": "completed"
    },
    "scrolled": false,
    "tags": []
   },
   "outputs": [],
   "source": [
    "# With the boxplot we can see the variation of the target 'SalePrice' in each of the categorical features\n",
    "fig, axes = plt.subplots(\n",
    "    round(len(data_train_categ.columns)/3), 3, figsize=(15, 30))\n",
    "\n",
    "for i, ax in enumerate(fig.axes):\n",
    "    # plot the variation of SalePrice in each feature\n",
    "    if i < len(data_train_categ.columns) - 1:\n",
    "        ax.set_xticklabels(ax.xaxis.get_majorticklabels(), rotation=75)\n",
    "        sns.boxplot(\n",
    "            x=data_train_categ.columns[i], y=\"SalePrice\", data=data_train_categ, ax=ax)\n",
    "\n",
    "fig.tight_layout()"
   ]
  },
  {
   "cell_type": "markdown",
   "id": "beb5c54e",
   "metadata": {
    "papermill": {
     "duration": 0.220765,
     "end_time": "2022-05-11T12:55:18.809422",
     "exception": false,
     "start_time": "2022-05-11T12:55:18.588657",
     "status": "completed"
    },
    "tags": []
   },
   "source": [
    "Looking at these box plots, we see that the distribution of sale price for certain categorical variables are similar to each other (like \"Exterior1st\" and \"Exterior2nd\") which suggests that certain categorical variables are co-dependent on each other. There are three pairs of categorical variables for which the distribution of sale price is very similar:\n",
    "\n",
    "* \"Exterior1st\" and \"Exterior2nd\"\n",
    "* \"ExterQual\" and \"MasVnrType\"\n",
    "* \"BsmtQual\" and \"BsmtExposure\"\n",
    "\n",
    "We will perform a Chi-squared test for each pair of variables at a 5% significance level to determine whether or not there is a strong dependency between these variables."
   ]
  },
  {
   "cell_type": "code",
   "execution_count": null,
   "id": "95419721",
   "metadata": {
    "execution": {
     "iopub.execute_input": "2022-05-11T12:55:19.245301Z",
     "iopub.status.busy": "2022-05-11T12:55:19.244980Z",
     "iopub.status.idle": "2022-05-11T12:55:20.969761Z",
     "shell.execute_reply": "2022-05-11T12:55:20.968021Z"
    },
    "papermill": {
     "duration": 1.947649,
     "end_time": "2022-05-11T12:55:20.972909",
     "exception": false,
     "start_time": "2022-05-11T12:55:19.025260",
     "status": "completed"
    },
    "scrolled": false,
    "tags": []
   },
   "outputs": [],
   "source": [
    "# Plot contingency table\n",
    "\n",
    "sns.set(rc={\"figure.figsize\": (10, 7)})\n",
    "\n",
    "X = [\"Exterior1st\", \"ExterQual\", \"BsmtQual\"]\n",
    "Y = [\"Exterior2nd\", \"MasVnrType\", \"BsmtExposure\"]\n",
    "\n",
    "# Parameters for Chi-squared test (5% significance level)\n",
    "prob = 0.95\n",
    "alpha = 1.0 - prob\n",
    "\n",
    "for i, j in zip(X, Y):\n",
    "\n",
    "    # Contingency table\n",
    "    cont = data_train_categ[[i, j]].pivot_table(\n",
    "        index=i, columns=j, aggfunc=len, margins=True, margins_name=\"Total\")\n",
    "    tx = cont.loc[:, [\"Total\"]]\n",
    "    ty = cont.loc[[\"Total\"], :]\n",
    "    n = len(data_train_categ)\n",
    "    indep = tx.dot(ty) / n\n",
    "    c = cont.fillna(0)  # Replace NaN with 0 in the contingency table\n",
    "    measure = (c - indep) ** 2 / indep\n",
    "    xi_n = measure.sum().sum()\n",
    "    table = measure / xi_n\n",
    "\n",
    "    # Plot contingency table\n",
    "    p = sns.heatmap(table.iloc[:-1, :-1],\n",
    "                    annot=c.iloc[:-1, :-1], fmt=\".0f\", cmap=\"Oranges\")\n",
    "    p.set_xlabel(j, fontsize=18)\n",
    "    p.set_ylabel(i, fontsize=18)\n",
    "    p.set_title(f\"\\nχ² test between groups {i} and groups {j}\\n\", size=18)\n",
    "    plt.show()\n",
    "\n",
    "    # Performing Chi-sq test\n",
    "    CrosstabResult = pd.crosstab(\n",
    "        index=data_train_categ[i], columns=data_train_categ[j])\n",
    "    ChiSqResult = chi2_contingency(CrosstabResult)\n",
    "    # P-Value is the Probability of H0 being True\n",
    "    print(f\"P-Value of the ChiSq Test bewteen {i} and {j} is: {ChiSqResult[1]}\\n\")\n",
    "    print('significance=%.3f, p=%.3f' % (alpha, ChiSqResult[1]))\n",
    "    if ChiSqResult[1] <= alpha:\n",
    "        print('Dependent (reject H0)')\n",
    "    else:\n",
    "        print('Independent (fail to reject H0)')"
   ]
  },
  {
   "cell_type": "markdown",
   "id": "2aaf306d",
   "metadata": {
    "papermill": {
     "duration": 0.220487,
     "end_time": "2022-05-11T12:55:21.422140",
     "exception": false,
     "start_time": "2022-05-11T12:55:21.201653",
     "status": "completed"
    },
    "tags": []
   },
   "source": [
    "Here, the contigency tables for each pair of categorical variables considered is printed as a heatmap, with the colours representing the relative error between the actual value of the table with its expected value. After performing the Chi-squared test for each pairs of variables considered, we see that there is strong co-dependency for each of these variables. Since highly dependent/correlated variables do not add much relevant new information with regards to the value of the target variable, we will drop one of each co-dependent variable from the dataset."
   ]
  },
  {
   "cell_type": "code",
   "execution_count": null,
   "id": "6f47b879",
   "metadata": {
    "execution": {
     "iopub.execute_input": "2022-05-11T12:55:21.865166Z",
     "iopub.status.busy": "2022-05-11T12:55:21.864831Z",
     "iopub.status.idle": "2022-05-11T12:55:21.873380Z",
     "shell.execute_reply": "2022-05-11T12:55:21.872456Z"
    },
    "papermill": {
     "duration": 0.233069,
     "end_time": "2022-05-11T12:55:21.875850",
     "exception": false,
     "start_time": "2022-05-11T12:55:21.642781",
     "status": "completed"
    },
    "tags": []
   },
   "outputs": [],
   "source": [
    "# Drop the one of each co-dependent variables\n",
    "# Training set\n",
    "data_train_categ.drop(Y, axis=1, inplace=True)\n",
    "\n",
    "# Test set\n",
    "data_test_categ.drop(Y, axis=1, inplace=True)"
   ]
  },
  {
   "cell_type": "code",
   "execution_count": null,
   "id": "24d75158",
   "metadata": {
    "execution": {
     "iopub.execute_input": "2022-05-11T12:55:22.326161Z",
     "iopub.status.busy": "2022-05-11T12:55:22.325832Z",
     "iopub.status.idle": "2022-05-11T12:55:22.330903Z",
     "shell.execute_reply": "2022-05-11T12:55:22.329763Z"
    },
    "papermill": {
     "duration": 0.233311,
     "end_time": "2022-05-11T12:55:22.333755",
     "exception": false,
     "start_time": "2022-05-11T12:55:22.100444",
     "status": "completed"
    },
    "tags": []
   },
   "outputs": [],
   "source": [
    "print(f\"Training set shape (Categorical features): {data_train_categ.shape}\\n\")\n",
    "print(f\"Test set shape (Categorical features): {data_test_categ.shape}\\n\")"
   ]
  },
  {
   "cell_type": "markdown",
   "id": "78ac2cee",
   "metadata": {
    "papermill": {
     "duration": 0.221828,
     "end_time": "2022-05-11T12:55:22.778736",
     "exception": false,
     "start_time": "2022-05-11T12:55:22.556908",
     "status": "completed"
    },
    "tags": []
   },
   "source": [
    "## Missing Values"
   ]
  },
  {
   "cell_type": "code",
   "execution_count": null,
   "id": "c8381592",
   "metadata": {
    "execution": {
     "iopub.execute_input": "2022-05-11T12:55:23.222625Z",
     "iopub.status.busy": "2022-05-11T12:55:23.222184Z",
     "iopub.status.idle": "2022-05-11T12:55:23.519410Z",
     "shell.execute_reply": "2022-05-11T12:55:23.518005Z"
    },
    "papermill": {
     "duration": 0.522058,
     "end_time": "2022-05-11T12:55:23.522707",
     "exception": false,
     "start_time": "2022-05-11T12:55:23.000649",
     "status": "completed"
    },
    "tags": []
   },
   "outputs": [],
   "source": [
    "# Get names of categorical columns with missing values (training set)\n",
    "cat_cols_with_missing = [col for col in data_train_categ.columns\n",
    "                         if data_train_categ[col].isnull().any()]\n",
    "\n",
    "print(\"Categorical Columns with missing (NA) values:\")\n",
    "print(cat_cols_with_missing)\n",
    "\n",
    "# Count how many NA values are in each of those columns\n",
    "cat_cols_nan_count = list(map(lambda col: round(data_train_categ[col].isna().sum()*100/len(data_train_categ)), \n",
    "                              cat_cols_with_missing))\n",
    "\n",
    "\n",
    "tab_cat = pd.DataFrame(cat_cols_with_missing, columns=[\"Column\"])\n",
    "tab_cat[\"Percent_NaN\"] = cat_cols_nan_count\n",
    "tab_cat.sort_values(by=[\"Percent_NaN\"], ascending=False, inplace=True)\n",
    "\n",
    "\n",
    "# Define figure parameters\n",
    "sns.set(rc={\"figure.figsize\": (10, 7)})\n",
    "sns.set_style(\"whitegrid\")\n",
    "\n",
    "# Plot results\n",
    "p = sns.barplot(x=\"Percent_NaN\", y=\"Column\", data=tab_cat,\n",
    "                edgecolor=\"black\", color=\"deepskyblue\")\n",
    "\n",
    "p.set_title(\"Percent of NaN per column of the train set\\n\", fontsize=20)\n",
    "p.set_xlabel(\"\\nPercent of NaN (%)\", fontsize=20)\n",
    "p.set_ylabel(\"Column Name\\n\", fontsize=20)"
   ]
  },
  {
   "cell_type": "markdown",
   "id": "61c97c47",
   "metadata": {
    "papermill": {
     "duration": 0.222924,
     "end_time": "2022-05-11T12:55:23.972168",
     "exception": false,
     "start_time": "2022-05-11T12:55:23.749244",
     "status": "completed"
    },
    "tags": []
   },
   "source": [
    "In the training set, there are five categorical variables that have a significant amount of missing values. To help reduce the error, we will remove any columns with more than 30% NaN entries from both datasets. Imputation will be used to fill in the missing entries from the remaining columns in the training set using the modal class."
   ]
  },
  {
   "cell_type": "code",
   "execution_count": null,
   "id": "7ce99c6b",
   "metadata": {
    "execution": {
     "iopub.execute_input": "2022-05-11T12:55:24.421081Z",
     "iopub.status.busy": "2022-05-11T12:55:24.420732Z",
     "iopub.status.idle": "2022-05-11T12:55:24.434582Z",
     "shell.execute_reply": "2022-05-11T12:55:24.433454Z"
    },
    "papermill": {
     "duration": 0.242319,
     "end_time": "2022-05-11T12:55:24.437673",
     "exception": false,
     "start_time": "2022-05-11T12:55:24.195354",
     "status": "completed"
    },
    "tags": []
   },
   "outputs": [],
   "source": [
    "# Drop categorical columns that have at least 30% missing values\n",
    "large_na = [col for col in cat_cols_with_missing if (data_train_categ[col].isna().sum()/data_train_categ.shape[0]) > 0.3]\n",
    "\n",
    "print(\"Columns to be dropped:\")\n",
    "print(large_na)\n",
    "\n",
    "data_train_categ.drop(large_na, axis=1, inplace=True)"
   ]
  },
  {
   "cell_type": "code",
   "execution_count": null,
   "id": "f43cf526",
   "metadata": {
    "execution": {
     "iopub.execute_input": "2022-05-11T12:55:24.890248Z",
     "iopub.status.busy": "2022-05-11T12:55:24.889384Z",
     "iopub.status.idle": "2022-05-11T12:55:24.903612Z",
     "shell.execute_reply": "2022-05-11T12:55:24.901783Z"
    },
    "papermill": {
     "duration": 0.242986,
     "end_time": "2022-05-11T12:55:24.906352",
     "exception": false,
     "start_time": "2022-05-11T12:55:24.663366",
     "status": "completed"
    },
    "tags": []
   },
   "outputs": [],
   "source": [
    "# Fill the NaN of each feature by the corresponding modal class\n",
    "categ_fill_null = {\"GarageType\": data_train_categ[\"GarageType\"].mode().iloc[0],\n",
    "                   \"GarageFinish\": data_train_categ[\"GarageFinish\"].mode().iloc[0],\n",
    "                   \"BsmtQual\": data_train_categ[\"BsmtQual\"].mode().iloc[0],\n",
    "                   \"BsmtFinType1\": data_train_categ[\"BsmtFinType1\"].mode().iloc[0]}\n",
    "\n",
    "data_train_categ = data_train_categ.fillna(value=categ_fill_null)"
   ]
  },
  {
   "cell_type": "markdown",
   "id": "fec56d95",
   "metadata": {
    "papermill": {
     "duration": 0.152188,
     "end_time": "2022-05-11T12:55:25.212011",
     "exception": false,
     "start_time": "2022-05-11T12:55:25.059823",
     "status": "completed"
    },
    "tags": []
   },
   "source": [
    "After dropping those same columns from the test dataset, we investigate the categorical variables from that dataset that have missing values."
   ]
  },
  {
   "cell_type": "code",
   "execution_count": null,
   "id": "98dca27c",
   "metadata": {
    "execution": {
     "iopub.execute_input": "2022-05-11T12:55:25.522330Z",
     "iopub.status.busy": "2022-05-11T12:55:25.521700Z",
     "iopub.status.idle": "2022-05-11T12:55:25.848797Z",
     "shell.execute_reply": "2022-05-11T12:55:25.847165Z"
    },
    "papermill": {
     "duration": 0.484293,
     "end_time": "2022-05-11T12:55:25.852110",
     "exception": false,
     "start_time": "2022-05-11T12:55:25.367817",
     "status": "completed"
    },
    "tags": []
   },
   "outputs": [],
   "source": [
    "# Drop the same categorical columns from the test set\n",
    "data_test_categ.drop(large_na, axis=1, inplace=True)\n",
    "\n",
    "# Get names of categorical columns with missing values (test set)\n",
    "cat_cols_with_missing_t = [col for col in data_test_categ.columns\n",
    "                           if data_test_categ[col].isnull().any()]\n",
    "\n",
    "print(\"Categorical Columns with missing (NA) values:\")\n",
    "print(cat_cols_with_missing_t)\n",
    "\n",
    "# Count how many NA values are in each of those columns\n",
    "cat_cols_nan_count_t = list(map(lambda col: round(data_test_categ[col].isna().sum()*100/len(data_test_categ)), \n",
    "                              cat_cols_with_missing_t))\n",
    "\n",
    "\n",
    "tab_cat_t = pd.DataFrame(cat_cols_with_missing_t, columns=[\"Column\"])\n",
    "tab_cat_t[\"Percent_NaN\"] = cat_cols_nan_count_t\n",
    "tab_cat_t.sort_values(by=[\"Percent_NaN\"], ascending=False, inplace=True)\n",
    "\n",
    "\n",
    "# Define figure parameters\n",
    "sns.set(rc={\"figure.figsize\": (10, 7)})\n",
    "sns.set_style(\"whitegrid\")\n",
    "\n",
    "# Plot results\n",
    "p = sns.barplot(x=\"Percent_NaN\", y=\"Column\", data=tab_cat_t,\n",
    "                edgecolor=\"black\", color=\"deepskyblue\")\n",
    "\n",
    "p.set_title(\"Percent of NaN per column of the test set\\n\", fontsize=20)\n",
    "p.set_xlabel(\"\\nPercent of NaN (%)\", fontsize=20)\n",
    "p.set_ylabel(\"Column Name\\n\", fontsize=20)"
   ]
  },
  {
   "cell_type": "markdown",
   "id": "333ba118",
   "metadata": {
    "papermill": {
     "duration": 0.228248,
     "end_time": "2022-05-11T12:55:26.311460",
     "exception": false,
     "start_time": "2022-05-11T12:55:26.083212",
     "status": "completed"
    },
    "tags": []
   },
   "source": [
    "There are a few more columns in the test dataset that have missing values, but none of them have more than 5% missing values. Therefore, we will fill in each NaN entry for each feature using it's corresponding modal class like before."
   ]
  },
  {
   "cell_type": "code",
   "execution_count": null,
   "id": "69ae855b",
   "metadata": {
    "execution": {
     "iopub.execute_input": "2022-05-11T12:55:26.769395Z",
     "iopub.status.busy": "2022-05-11T12:55:26.768982Z",
     "iopub.status.idle": "2022-05-11T12:55:26.783866Z",
     "shell.execute_reply": "2022-05-11T12:55:26.782913Z"
    },
    "papermill": {
     "duration": 0.245237,
     "end_time": "2022-05-11T12:55:26.786274",
     "exception": false,
     "start_time": "2022-05-11T12:55:26.541037",
     "status": "completed"
    },
    "tags": []
   },
   "outputs": [],
   "source": [
    "# Fill the NaN of each feature by the corresponding modal class\n",
    "categ_fill_null = {\"GarageType\": data_test_categ[\"GarageType\"].mode().iloc[0],\n",
    "                   \"GarageFinish\": data_test_categ[\"GarageFinish\"].mode().iloc[0],\n",
    "                   \"BsmtQual\": data_test_categ[\"BsmtQual\"].mode().iloc[0],\n",
    "                   \"BsmtFinType1\": data_test_categ[\"BsmtFinType1\"].mode().iloc[0],\n",
    "                   \"MSZoning\": data_test_categ[\"MSZoning\"].mode().iloc[0],\n",
    "                   \"Exterior1st\": data_test_categ[\"Exterior1st\"].mode().iloc[0],\n",
    "                   \"KitchenQual\": data_test_categ[\"KitchenQual\"].mode().iloc[0],\n",
    "                   \"SaleType\": data_test_categ[\"SaleType\"].mode().iloc[0]}\n",
    "\n",
    "data_test_categ = data_test_categ.fillna(value=categ_fill_null)"
   ]
  },
  {
   "cell_type": "markdown",
   "id": "187d3cb7",
   "metadata": {
    "papermill": {
     "duration": 0.226456,
     "end_time": "2022-05-11T12:55:27.241467",
     "exception": false,
     "start_time": "2022-05-11T12:55:27.015011",
     "status": "completed"
    },
    "tags": []
   },
   "source": [
    "The shape of each dataset (containing categorical features only) after imputation is shown below."
   ]
  },
  {
   "cell_type": "code",
   "execution_count": null,
   "id": "62876fbe",
   "metadata": {
    "execution": {
     "iopub.execute_input": "2022-05-11T12:55:27.703394Z",
     "iopub.status.busy": "2022-05-11T12:55:27.702835Z",
     "iopub.status.idle": "2022-05-11T12:55:27.708342Z",
     "shell.execute_reply": "2022-05-11T12:55:27.707281Z"
    },
    "papermill": {
     "duration": 0.239247,
     "end_time": "2022-05-11T12:55:27.711211",
     "exception": false,
     "start_time": "2022-05-11T12:55:27.471964",
     "status": "completed"
    },
    "tags": []
   },
   "outputs": [],
   "source": [
    "print(f\"Training set shape (Categorical features): {data_train_categ.shape}\\n\")\n",
    "print(f\"Test set shape (Categorical features): {data_test_categ.shape}\\n\")"
   ]
  },
  {
   "cell_type": "markdown",
   "id": "422c39ee",
   "metadata": {
    "papermill": {
     "duration": 0.229228,
     "end_time": "2022-05-11T12:55:28.171766",
     "exception": false,
     "start_time": "2022-05-11T12:55:27.942538",
     "status": "completed"
    },
    "tags": []
   },
   "source": [
    "## Transformation into numerical values (get_dummies())"
   ]
  },
  {
   "cell_type": "markdown",
   "id": "85401ad5",
   "metadata": {
    "papermill": {
     "duration": 0.227989,
     "end_time": "2022-05-11T12:55:28.627399",
     "exception": false,
     "start_time": "2022-05-11T12:55:28.399410",
     "status": "completed"
    },
    "tags": []
   },
   "source": [
    "Before we combine the categorical data back with the numerical data, we need to transform the categorical entries into numerical entries. This will be done using the get_dummies() function where each categorical feature will be transformed into a binary feature."
   ]
  },
  {
   "cell_type": "code",
   "execution_count": null,
   "id": "fa393382",
   "metadata": {
    "execution": {
     "iopub.execute_input": "2022-05-11T12:55:29.069189Z",
     "iopub.status.busy": "2022-05-11T12:55:29.068868Z",
     "iopub.status.idle": "2022-05-11T12:55:29.115625Z",
     "shell.execute_reply": "2022-05-11T12:55:29.115065Z"
    },
    "papermill": {
     "duration": 0.262024,
     "end_time": "2022-05-11T12:55:29.117585",
     "exception": false,
     "start_time": "2022-05-11T12:55:28.855561",
     "status": "completed"
    },
    "tags": []
   },
   "outputs": [],
   "source": [
    "# Drop the SalePrice column from the training dataset\n",
    "data_train_categ.drop([\"SalePrice\"], axis = 1, inplace = True)\n",
    "\n",
    "# Use get_dummies to transform the Categorical features into Binary features (Training dataset)\n",
    "data_train_dummies = pd.get_dummies(data_train_categ)\n",
    "data_train_dummies.head()"
   ]
  },
  {
   "cell_type": "code",
   "execution_count": null,
   "id": "f0b55875",
   "metadata": {
    "execution": {
     "iopub.execute_input": "2022-05-11T12:55:29.582212Z",
     "iopub.status.busy": "2022-05-11T12:55:29.580940Z",
     "iopub.status.idle": "2022-05-11T12:55:29.625520Z",
     "shell.execute_reply": "2022-05-11T12:55:29.624943Z"
    },
    "papermill": {
     "duration": 0.278677,
     "end_time": "2022-05-11T12:55:29.627845",
     "exception": false,
     "start_time": "2022-05-11T12:55:29.349168",
     "status": "completed"
    },
    "tags": []
   },
   "outputs": [],
   "source": [
    "# Apply get_dummies to the test dataset as well\n",
    "data_test_dummies = pd.get_dummies(data_test_categ)\n",
    "data_test_dummies.head()"
   ]
  },
  {
   "cell_type": "markdown",
   "id": "e06245c8",
   "metadata": {
    "papermill": {
     "duration": 0.230439,
     "end_time": "2022-05-11T12:55:30.088638",
     "exception": false,
     "start_time": "2022-05-11T12:55:29.858199",
     "status": "completed"
    },
    "tags": []
   },
   "source": [
    "From the first few rows of each modified dataset we see that they do not have the same number of columns. We need to check which columns are missing from the test dataset."
   ]
  },
  {
   "cell_type": "code",
   "execution_count": null,
   "id": "a66004d4",
   "metadata": {
    "execution": {
     "iopub.execute_input": "2022-05-11T12:55:30.549855Z",
     "iopub.status.busy": "2022-05-11T12:55:30.549432Z",
     "iopub.status.idle": "2022-05-11T12:55:30.555698Z",
     "shell.execute_reply": "2022-05-11T12:55:30.555122Z"
    },
    "papermill": {
     "duration": 0.241211,
     "end_time": "2022-05-11T12:55:30.558033",
     "exception": false,
     "start_time": "2022-05-11T12:55:30.316822",
     "status": "completed"
    },
    "tags": []
   },
   "outputs": [],
   "source": [
    "# Check if the column headings are the same in both data sets: data_train_dummies and data_test_dummies\n",
    "dif_1 = [x for x in data_train_dummies.columns if x not in data_test_dummies.columns]\n",
    "print(f\"Features present in df_train_categ and absent in df_test_categ: {dif_1}\\n\")\n",
    "\n",
    "dif_2 = [x for x in data_test_dummies.columns if x not in data_test_dummies.columns]\n",
    "print(f\"Features present in df_test_categ set and absent in df_train_categ: {dif_2}\")"
   ]
  },
  {
   "cell_type": "markdown",
   "id": "a836ecf4",
   "metadata": {
    "papermill": {
     "duration": 0.230747,
     "end_time": "2022-05-11T12:55:31.018769",
     "exception": false,
     "start_time": "2022-05-11T12:55:30.788022",
     "status": "completed"
    },
    "tags": []
   },
   "source": [
    "Three of these columns from the training dataset are not present in the test dataset. Thus they will be dropped from the training dataset to ensure that both datasets have exactly the same features."
   ]
  },
  {
   "cell_type": "code",
   "execution_count": null,
   "id": "3ded9fbc",
   "metadata": {
    "execution": {
     "iopub.execute_input": "2022-05-11T12:55:31.445287Z",
     "iopub.status.busy": "2022-05-11T12:55:31.445028Z",
     "iopub.status.idle": "2022-05-11T12:55:31.455381Z",
     "shell.execute_reply": "2022-05-11T12:55:31.453274Z"
    },
    "papermill": {
     "duration": 0.205609,
     "end_time": "2022-05-11T12:55:31.458180",
     "exception": false,
     "start_time": "2022-05-11T12:55:31.252571",
     "status": "completed"
    },
    "tags": []
   },
   "outputs": [],
   "source": [
    "# Drop the columns listed in dif_1 from data_train_dummies\n",
    "data_train_dummies.drop(dif_1, axis=1, inplace=True)\n",
    "\n",
    "# Check again if the column headings are the same in both data sets: data_train_dummies and data_test_dummies\n",
    "dif_1 = [x for x in data_train_dummies.columns if x not in data_test_dummies.columns]\n",
    "print(f\"Features present in df_train_categ and absent in df_test_categ: {dif_1}\\n\")\n",
    "\n",
    "dif_2 = [x for x in data_test_dummies.columns if x not in data_test_dummies.columns]\n",
    "print(f\"Features present in df_test_categ set and absent in df_train_categ: {dif_2}\")"
   ]
  },
  {
   "cell_type": "markdown",
   "id": "ad41c7e2",
   "metadata": {
    "papermill": {
     "duration": 0.160886,
     "end_time": "2022-05-11T12:55:31.784470",
     "exception": false,
     "start_time": "2022-05-11T12:55:31.623584",
     "status": "completed"
    },
    "tags": []
   },
   "source": [
    "The shape of both datasets (categorical features only) after all of these changes are given below."
   ]
  },
  {
   "cell_type": "code",
   "execution_count": null,
   "id": "0bca7a5e",
   "metadata": {
    "execution": {
     "iopub.execute_input": "2022-05-11T12:55:32.195718Z",
     "iopub.status.busy": "2022-05-11T12:55:32.195401Z",
     "iopub.status.idle": "2022-05-11T12:55:32.202857Z",
     "shell.execute_reply": "2022-05-11T12:55:32.200965Z"
    },
    "papermill": {
     "duration": 0.173195,
     "end_time": "2022-05-11T12:55:32.205244",
     "exception": false,
     "start_time": "2022-05-11T12:55:32.032049",
     "status": "completed"
    },
    "tags": []
   },
   "outputs": [],
   "source": [
    "print(f\"Training set shape (Categorical features): {data_train_dummies.shape}\\n\")\n",
    "print(f\"Test set shape (Categorical features): {data_test_dummies.shape}\\n\")"
   ]
  },
  {
   "cell_type": "markdown",
   "id": "a43764c8",
   "metadata": {
    "papermill": {
     "duration": 0.161542,
     "end_time": "2022-05-11T12:55:32.525906",
     "exception": false,
     "start_time": "2022-05-11T12:55:32.364364",
     "status": "completed"
    },
    "tags": []
   },
   "source": [
    "# Preparing Data for modelling"
   ]
  },
  {
   "cell_type": "code",
   "execution_count": null,
   "id": "cca85d1f",
   "metadata": {
    "execution": {
     "iopub.execute_input": "2022-05-11T12:55:32.846079Z",
     "iopub.status.busy": "2022-05-11T12:55:32.845712Z",
     "iopub.status.idle": "2022-05-11T12:55:32.855090Z",
     "shell.execute_reply": "2022-05-11T12:55:32.853321Z"
    },
    "papermill": {
     "duration": 0.174821,
     "end_time": "2022-05-11T12:55:32.858559",
     "exception": false,
     "start_time": "2022-05-11T12:55:32.683738",
     "status": "completed"
    },
    "tags": []
   },
   "outputs": [],
   "source": [
    "# Join numerical and categorical datasets together\n",
    "# Training set\n",
    "data_train_new = pd.concat([data_train_imputed, data_train_dummies], axis = 1)\n",
    "print(f\"Train set: {data_train_new.shape}\")\n",
    "\n",
    "# Test set\n",
    "data_test_new = pd.concat([data_test_imputed, data_test_dummies], axis = 1)\n",
    "print(f\"Test set: {data_test_new.shape}\")"
   ]
  },
  {
   "cell_type": "markdown",
   "id": "f51b5973",
   "metadata": {
    "papermill": {
     "duration": 0.159619,
     "end_time": "2022-05-11T12:55:33.184614",
     "exception": false,
     "start_time": "2022-05-11T12:55:33.024995",
     "status": "completed"
    },
    "tags": []
   },
   "source": [
    "## Further Feature Engineering"
   ]
  },
  {
   "cell_type": "markdown",
   "id": "625cfbd7",
   "metadata": {
    "papermill": {
     "duration": 0.157861,
     "end_time": "2022-05-11T12:55:33.499770",
     "exception": false,
     "start_time": "2022-05-11T12:55:33.341909",
     "status": "completed"
    },
    "tags": []
   },
   "source": [
    "The Year of construction and the Year of Remodelling variables will be transformed into new variables representing the Age of the House and the Age since the house was remodelled - this will enable us to apply a log transform to normalize those variables. After the transformation, the variables \"YearBuilt\" and \"YearRemodAdd\" will be removed."
   ]
  },
  {
   "cell_type": "code",
   "execution_count": null,
   "id": "65e1a6f2",
   "metadata": {
    "execution": {
     "iopub.execute_input": "2022-05-11T12:55:33.820097Z",
     "iopub.status.busy": "2022-05-11T12:55:33.819785Z",
     "iopub.status.idle": "2022-05-11T12:55:33.830652Z",
     "shell.execute_reply": "2022-05-11T12:55:33.829996Z"
    },
    "papermill": {
     "duration": 0.174994,
     "end_time": "2022-05-11T12:55:33.832877",
     "exception": false,
     "start_time": "2022-05-11T12:55:33.657883",
     "status": "completed"
    },
    "tags": []
   },
   "outputs": [],
   "source": [
    "# Convert Year of construction to the Age of the house since the construction\n",
    "data_train_new[\"AgeSinceConst\"] = (data_train_new[\"YearBuilt\"].max() - data_train_new[\"YearBuilt\"])\n",
    "\n",
    "data_test_new[\"AgeSinceConst\"] = (data_test_new[\"YearBuilt\"].max() - data_test_new[\"YearBuilt\"])\n",
    "\n",
    "# Drop \"YearBuilt\"\n",
    "data_train_new.drop([\"YearBuilt\"], axis=1, inplace=True)\n",
    "data_test_new.drop([\"YearBuilt\"], axis=1, inplace=True)"
   ]
  },
  {
   "cell_type": "code",
   "execution_count": null,
   "id": "75356c42",
   "metadata": {
    "execution": {
     "iopub.execute_input": "2022-05-11T12:55:34.155484Z",
     "iopub.status.busy": "2022-05-11T12:55:34.155052Z",
     "iopub.status.idle": "2022-05-11T12:55:34.166023Z",
     "shell.execute_reply": "2022-05-11T12:55:34.165035Z"
    },
    "papermill": {
     "duration": 0.175957,
     "end_time": "2022-05-11T12:55:34.168176",
     "exception": false,
     "start_time": "2022-05-11T12:55:33.992219",
     "status": "completed"
    },
    "tags": []
   },
   "outputs": [],
   "source": [
    "# Convert Year of remodeling to the Age of the house since the remodeling\n",
    "data_train_new[\"AgeSinceRemod\"] = (data_train_new[\"YearRemodAdd\"].max() - data_train_new[\"YearRemodAdd\"])\n",
    "\n",
    "data_test_new[\"AgeSinceRemod\"] = (data_test_new[\"YearRemodAdd\"].max() - data_test_new[\"YearRemodAdd\"])\n",
    "\n",
    "# Drop \"YearRemodAdd\"\n",
    "data_train_new.drop([\"YearRemodAdd\"], axis=1, inplace=True)\n",
    "data_test_new.drop([\"YearRemodAdd\"], axis=1, inplace=True)"
   ]
  },
  {
   "cell_type": "markdown",
   "id": "46be763b",
   "metadata": {
    "papermill": {
     "duration": 0.157959,
     "end_time": "2022-05-11T12:55:34.483216",
     "exception": false,
     "start_time": "2022-05-11T12:55:34.325257",
     "status": "completed"
    },
    "tags": []
   },
   "source": [
    "Now, we consider the continuous numerical variables that are skewed. A Log transformation will be applied to the skewed numerical variables to help mitigate the strong variation of some variables, and to reduce redundancy. The continuous features are defined below."
   ]
  },
  {
   "cell_type": "code",
   "execution_count": null,
   "id": "2f23306e",
   "metadata": {
    "execution": {
     "iopub.execute_input": "2022-05-11T12:55:34.803160Z",
     "iopub.status.busy": "2022-05-11T12:55:34.802683Z",
     "iopub.status.idle": "2022-05-11T12:55:34.807468Z",
     "shell.execute_reply": "2022-05-11T12:55:34.806134Z"
    },
    "papermill": {
     "duration": 0.164913,
     "end_time": "2022-05-11T12:55:34.809659",
     "exception": false,
     "start_time": "2022-05-11T12:55:34.644746",
     "status": "completed"
    },
    "tags": []
   },
   "outputs": [],
   "source": [
    "continuous_features = ['AgeSinceConst', 'AgeSinceRemod', 'MasVnrArea', 'BsmtFinSF1',\n",
    "                      'TotalBsmtSF', '1stFlrSF', '2ndFlrSF', 'GrLivArea', 'GarageArea',\n",
    "                      'WoodDeckSF', 'OpenPorchSF']"
   ]
  },
  {
   "cell_type": "markdown",
   "id": "31c18a03",
   "metadata": {
    "papermill": {
     "duration": 0.164459,
     "end_time": "2022-05-11T12:55:35.135561",
     "exception": false,
     "start_time": "2022-05-11T12:55:34.971102",
     "status": "completed"
    },
    "tags": []
   },
   "source": [
    "To obtain the skewed features, we take out variables that are more than 50% skewed."
   ]
  },
  {
   "cell_type": "code",
   "execution_count": null,
   "id": "82ecb138",
   "metadata": {
    "execution": {
     "iopub.execute_input": "2022-05-11T12:55:35.608625Z",
     "iopub.status.busy": "2022-05-11T12:55:35.608304Z",
     "iopub.status.idle": "2022-05-11T12:55:35.622992Z",
     "shell.execute_reply": "2022-05-11T12:55:35.622156Z"
    },
    "papermill": {
     "duration": 0.255391,
     "end_time": "2022-05-11T12:55:35.625499",
     "exception": false,
     "start_time": "2022-05-11T12:55:35.370108",
     "status": "completed"
    },
    "tags": []
   },
   "outputs": [],
   "source": [
    "data_skew_verify = data_train_new.loc[:, continuous_features]\n",
    "\n",
    "# Select features with absolute Skew higher than 0.5\n",
    "skew_ft = []\n",
    "\n",
    "for i in continuous_features:\n",
    "    # list of skew for each corresponding feature\n",
    "    skew_ft.append(abs(data_skew_verify[i].skew()))\n",
    "\n",
    "data_skewed = pd.DataFrame({\"Columns\": continuous_features, \"Abs_Skew\": skew_ft})\n",
    "\n",
    "sk_features = data_skewed[data_skewed[\"Abs_Skew\"] > 0.5][\"Columns\"].tolist()\n",
    "print(f\"List of skewed features: {sk_features}\")"
   ]
  },
  {
   "cell_type": "markdown",
   "id": "6a3b564f",
   "metadata": {
    "papermill": {
     "duration": 0.235894,
     "end_time": "2022-05-11T12:55:36.099207",
     "exception": false,
     "start_time": "2022-05-11T12:55:35.863313",
     "status": "completed"
    },
    "tags": []
   },
   "source": [
    "A log transformation is then applied to the skewed features listed above."
   ]
  },
  {
   "cell_type": "code",
   "execution_count": null,
   "id": "7983deac",
   "metadata": {
    "execution": {
     "iopub.execute_input": "2022-05-11T12:55:36.567061Z",
     "iopub.status.busy": "2022-05-11T12:55:36.566726Z",
     "iopub.status.idle": "2022-05-11T12:55:36.582390Z",
     "shell.execute_reply": "2022-05-11T12:55:36.581704Z"
    },
    "papermill": {
     "duration": 0.252115,
     "end_time": "2022-05-11T12:55:36.584806",
     "exception": false,
     "start_time": "2022-05-11T12:55:36.332691",
     "status": "completed"
    },
    "tags": []
   },
   "outputs": [],
   "source": [
    "# Log transformation of the skewed features\n",
    "for i in sk_features:\n",
    "    # loop over i (features) to calculate Log of surfaces\n",
    "    # Training set\n",
    "    data_train_new[i] = np.log((data_train_new[i])+1)\n",
    "    \n",
    "    # Test set\n",
    "    data_test_new[i] = np.log((data_test_new[i])+1)"
   ]
  },
  {
   "cell_type": "markdown",
   "id": "d51070d3",
   "metadata": {
    "papermill": {
     "duration": 0.23518,
     "end_time": "2022-05-11T12:55:37.053376",
     "exception": false,
     "start_time": "2022-05-11T12:55:36.818196",
     "status": "completed"
    },
    "tags": []
   },
   "source": [
    "Looking at the distribution of the numerical features near the start, we noticed that \"SalePrice\" is skewed as well. To help normalize this variable, a log transformation will be applied to \"SalePrice\" as well."
   ]
  },
  {
   "cell_type": "code",
   "execution_count": null,
   "id": "f790f635",
   "metadata": {
    "execution": {
     "iopub.execute_input": "2022-05-11T12:55:37.520515Z",
     "iopub.status.busy": "2022-05-11T12:55:37.520280Z",
     "iopub.status.idle": "2022-05-11T12:55:37.527643Z",
     "shell.execute_reply": "2022-05-11T12:55:37.526986Z"
    },
    "papermill": {
     "duration": 0.243729,
     "end_time": "2022-05-11T12:55:37.529398",
     "exception": false,
     "start_time": "2022-05-11T12:55:37.285669",
     "status": "completed"
    },
    "tags": []
   },
   "outputs": [],
   "source": [
    "# Log transformation of the target variable \"SalePrice\"\n",
    "data_train_new[\"SalePriceLog\"] = np.log(data_train_new.SalePrice)\n",
    "\n",
    "# Drop the original SalePrice\n",
    "data_train_new.drop([\"SalePrice\"], axis=1, inplace=True)"
   ]
  },
  {
   "cell_type": "code",
   "execution_count": null,
   "id": "87f1531d",
   "metadata": {
    "execution": {
     "iopub.execute_input": "2022-05-11T12:55:37.854322Z",
     "iopub.status.busy": "2022-05-11T12:55:37.853698Z",
     "iopub.status.idle": "2022-05-11T12:55:43.259788Z",
     "shell.execute_reply": "2022-05-11T12:55:43.258651Z"
    },
    "papermill": {
     "duration": 5.570398,
     "end_time": "2022-05-11T12:55:43.262543",
     "exception": false,
     "start_time": "2022-05-11T12:55:37.692145",
     "status": "completed"
    },
    "tags": []
   },
   "outputs": [],
   "source": [
    "numerical_cols_new = [cname for cname in data_train_new.columns if \n",
    "                      data_train_new[cname].dtype in ['int64', 'float64']]\n",
    "\n",
    "data_train_new_num = data_train_new[numerical_cols_new].copy()\n",
    "\n",
    "# Plot the distribution of all the numerical features\n",
    "fig_ = data_train_new_num.hist(figsize=(16, 20), bins=50, color=\"deepskyblue\",\n",
    "                               edgecolor=\"black\", xlabelsize=8, ylabelsize=8)"
   ]
  },
  {
   "cell_type": "markdown",
   "id": "2efe7676",
   "metadata": {
    "papermill": {
     "duration": 0.247046,
     "end_time": "2022-05-11T12:55:43.772756",
     "exception": false,
     "start_time": "2022-05-11T12:55:43.525710",
     "status": "completed"
    },
    "tags": []
   },
   "source": [
    "Looking at the distribution of the numerical features, we notice that most of the previously skewed variables have a more normal distribution (excluding zero values) with exception of the Age variables, which should result in better predictons."
   ]
  },
  {
   "cell_type": "markdown",
   "id": "30397b15",
   "metadata": {
    "papermill": {
     "duration": 0.241105,
     "end_time": "2022-05-11T12:55:44.255412",
     "exception": false,
     "start_time": "2022-05-11T12:55:44.014307",
     "status": "completed"
    },
    "tags": []
   },
   "source": [
    "## Splitting the data into training and test sets"
   ]
  },
  {
   "cell_type": "code",
   "execution_count": null,
   "id": "a9d554ed",
   "metadata": {
    "execution": {
     "iopub.execute_input": "2022-05-11T12:55:44.731889Z",
     "iopub.status.busy": "2022-05-11T12:55:44.731584Z",
     "iopub.status.idle": "2022-05-11T12:55:44.741115Z",
     "shell.execute_reply": "2022-05-11T12:55:44.739960Z"
    },
    "papermill": {
     "duration": 0.251156,
     "end_time": "2022-05-11T12:55:44.744165",
     "exception": false,
     "start_time": "2022-05-11T12:55:44.493009",
     "status": "completed"
    },
    "tags": []
   },
   "outputs": [],
   "source": [
    "# TRAINING DATASET\n",
    "# Feature variables\n",
    "X = data_train_new.copy().drop([\"SalePriceLog\"], axis = 1)\n",
    "\n",
    "# Target Variable\n",
    "y = data_train_new.loc[:, \"SalePriceLog\"]\n",
    "\n",
    "print(X.shape)\n",
    "print(y.shape)"
   ]
  },
  {
   "cell_type": "code",
   "execution_count": null,
   "id": "d6ee8f12",
   "metadata": {
    "execution": {
     "iopub.execute_input": "2022-05-11T12:55:45.222585Z",
     "iopub.status.busy": "2022-05-11T12:55:45.221862Z",
     "iopub.status.idle": "2022-05-11T12:55:45.231516Z",
     "shell.execute_reply": "2022-05-11T12:55:45.230094Z"
    },
    "papermill": {
     "duration": 0.251073,
     "end_time": "2022-05-11T12:55:45.234505",
     "exception": false,
     "start_time": "2022-05-11T12:55:44.983432",
     "status": "completed"
    },
    "tags": []
   },
   "outputs": [],
   "source": [
    "# Split the data into Training and test sets\n",
    "\n",
    "X_train, X_test, y_train, y_test = train_test_split(X, y, test_size = 0.2, random_state = 42)\n",
    "\n",
    "print(f\"X_train:{X_train.shape}\\ny_train:{y_train.shape}\")\n",
    "print(f\"\\nX_test:{X_test.shape}\\ny_test:{y_test.shape}\")"
   ]
  },
  {
   "cell_type": "markdown",
   "id": "4c11f94d",
   "metadata": {
    "papermill": {
     "duration": 0.245032,
     "end_time": "2022-05-11T12:55:45.719526",
     "exception": false,
     "start_time": "2022-05-11T12:55:45.474494",
     "status": "completed"
    },
    "tags": []
   },
   "source": [
    "# Modelling"
   ]
  },
  {
   "cell_type": "markdown",
   "id": "c2582be5",
   "metadata": {
    "papermill": {
     "duration": 0.235789,
     "end_time": "2022-05-11T12:55:46.194139",
     "exception": false,
     "start_time": "2022-05-11T12:55:45.958350",
     "status": "completed"
    },
    "tags": []
   },
   "source": [
    "For this project, six supervised learning models will be considered:\n",
    "\n",
    "* Linear Regression\n",
    "* Ridge Regression\n",
    "* Lasso Regression\n",
    "* Decision Tree Regressor\n",
    "* Random Forest Regressor\n",
    "* XGBoost Regressor\n",
    "\n",
    "To measure model performance and their predicitons the RMSE and R^{2} scores will be used, and 5-fold cross-validation will also be used."
   ]
  },
  {
   "cell_type": "code",
   "execution_count": null,
   "id": "97368a28",
   "metadata": {
    "execution": {
     "iopub.execute_input": "2022-05-11T12:55:46.667155Z",
     "iopub.status.busy": "2022-05-11T12:55:46.666856Z",
     "iopub.status.idle": "2022-05-11T12:55:46.671427Z",
     "shell.execute_reply": "2022-05-11T12:55:46.670874Z"
    },
    "papermill": {
     "duration": 0.243273,
     "end_time": "2022-05-11T12:55:46.672979",
     "exception": false,
     "start_time": "2022-05-11T12:55:46.429706",
     "status": "completed"
    },
    "tags": []
   },
   "outputs": [],
   "source": [
    "# Define models\n",
    "model_lin = LinearRegression()\n",
    "model_ridge = Ridge(alpha = 0.001)\n",
    "model_lasso = Lasso(alpha = 0.001)\n",
    "model_tree = DecisionTreeRegressor()\n",
    "model_ran = RandomForestRegressor()\n",
    "model_xg = XGBRegressor()"
   ]
  },
  {
   "cell_type": "code",
   "execution_count": null,
   "id": "72bc1071",
   "metadata": {
    "execution": {
     "iopub.execute_input": "2022-05-11T12:55:47.034563Z",
     "iopub.status.busy": "2022-05-11T12:55:47.034232Z",
     "iopub.status.idle": "2022-05-11T12:55:47.042307Z",
     "shell.execute_reply": "2022-05-11T12:55:47.041347Z"
    },
    "papermill": {
     "duration": 0.206243,
     "end_time": "2022-05-11T12:55:47.044216",
     "exception": false,
     "start_time": "2022-05-11T12:55:46.837973",
     "status": "completed"
    },
    "tags": []
   },
   "outputs": [],
   "source": [
    "from sklearn.metrics import mean_squared_error, r2_score\n",
    "\n",
    "# Define a function for each metric\n",
    "# R²\n",
    "def rsqr_score(test, pred):\n",
    "    \"\"\"Calculate R squared score \n",
    "\n",
    "    Args:\n",
    "        test -- test data\n",
    "        pred -- predicted data\n",
    "\n",
    "    Returns:\n",
    "        R squared score \n",
    "    \"\"\"\n",
    "    r2_ = r2_score(test, pred)\n",
    "    return r2_\n",
    "\n",
    "\n",
    "# RMSE\n",
    "def rmse_score(test, pred):\n",
    "    \"\"\"Calculate Root Mean Square Error score \n",
    "\n",
    "    Args:\n",
    "        test -- test data\n",
    "        pred -- predicted data\n",
    "\n",
    "    Returns:\n",
    "        Root Mean Square Error score\n",
    "    \"\"\"\n",
    "    rmse_ = np.sqrt(mean_squared_error(test, pred))\n",
    "    return rmse_\n",
    "\n",
    "\n",
    "# Print the scores\n",
    "def print_score(test, pred, model):\n",
    "    \"\"\"Print calculated score \n",
    "\n",
    "    Args:\n",
    "        test -- test data\n",
    "        pred -- predicted data\n",
    "\n",
    "    Returns:\n",
    "        print the regressor name\n",
    "        print the R squared score\n",
    "        print Root Mean Square Error score\n",
    "    \"\"\"\n",
    "\n",
    "    print(f\"- Regressor: {model}\")\n",
    "    print(f\"R²: {rsqr_score(test, pred)}\")\n",
    "    print(f\"RMSE: {rmse_score(test, pred)}\\n\")"
   ]
  },
  {
   "cell_type": "markdown",
   "id": "96253841",
   "metadata": {
    "papermill": {
     "duration": 0.187656,
     "end_time": "2022-05-11T12:55:47.469747",
     "exception": false,
     "start_time": "2022-05-11T12:55:47.282091",
     "status": "completed"
    },
    "tags": []
   },
   "source": [
    "## Linear Regression"
   ]
  },
  {
   "cell_type": "code",
   "execution_count": null,
   "id": "3d3bf156",
   "metadata": {
    "execution": {
     "iopub.execute_input": "2022-05-11T12:55:47.800159Z",
     "iopub.status.busy": "2022-05-11T12:55:47.799810Z",
     "iopub.status.idle": "2022-05-11T12:55:47.977428Z",
     "shell.execute_reply": "2022-05-11T12:55:47.976726Z"
    },
    "papermill": {
     "duration": 0.345153,
     "end_time": "2022-05-11T12:55:47.979447",
     "exception": false,
     "start_time": "2022-05-11T12:55:47.634294",
     "status": "completed"
    },
    "tags": []
   },
   "outputs": [],
   "source": [
    "scores_lin = -1 * cross_val_score(model_lin, X_train, y_train,\n",
    "                                  cv=5,\n",
    "                                  scoring='neg_mean_squared_error')\n",
    "\n",
    "print(\"MSE scores (Linear Model):\\n\", scores_lin)\n",
    "print(\"Mean MSE scores:\", scores_lin.mean())"
   ]
  },
  {
   "cell_type": "code",
   "execution_count": null,
   "id": "a45339a1",
   "metadata": {
    "execution": {
     "iopub.execute_input": "2022-05-11T12:55:48.368496Z",
     "iopub.status.busy": "2022-05-11T12:55:48.368154Z",
     "iopub.status.idle": "2022-05-11T12:55:48.412639Z",
     "shell.execute_reply": "2022-05-11T12:55:48.412038Z"
    },
    "papermill": {
     "duration": 0.209321,
     "end_time": "2022-05-11T12:55:48.415063",
     "exception": false,
     "start_time": "2022-05-11T12:55:48.205742",
     "status": "completed"
    },
    "tags": []
   },
   "outputs": [],
   "source": [
    "model_lin.fit(X_train, y_train)\n",
    "y_pred_lin = model_lin.predict(X_test)\n",
    "print_score(y_test, y_pred_lin, \"Linear\")"
   ]
  },
  {
   "cell_type": "code",
   "execution_count": null,
   "id": "1b697d10",
   "metadata": {
    "execution": {
     "iopub.execute_input": "2022-05-11T12:55:48.979316Z",
     "iopub.status.busy": "2022-05-11T12:55:48.979005Z",
     "iopub.status.idle": "2022-05-11T12:55:49.189824Z",
     "shell.execute_reply": "2022-05-11T12:55:49.189112Z"
    },
    "papermill": {
     "duration": 0.456947,
     "end_time": "2022-05-11T12:55:49.191972",
     "exception": false,
     "start_time": "2022-05-11T12:55:48.735025",
     "status": "completed"
    },
    "tags": []
   },
   "outputs": [],
   "source": [
    "plt.figure()\n",
    "plt.title(\"Actual vs. Predicted house prices\\n (Linear)\", fontsize=20)\n",
    "plt.scatter(np.exp(y_test), np.exp(y_pred_lin),\n",
    "            color=\"deepskyblue\", marker=\"o\", facecolors=\"none\")\n",
    "plt.plot([0, 800000], [0, 800000], \"darkorange\", lw=2)\n",
    "plt.xlim(0, 800000)\n",
    "plt.ylim(0, 800000)\n",
    "plt.xlabel(\"\\nActual Price\", fontsize=16)\n",
    "plt.ylabel(\"Predicted Price\\n\", fontsize=16)\n",
    "plt.show()"
   ]
  },
  {
   "cell_type": "markdown",
   "id": "b7d4a3dc",
   "metadata": {
    "papermill": {
     "duration": 0.171116,
     "end_time": "2022-05-11T12:55:49.586995",
     "exception": false,
     "start_time": "2022-05-11T12:55:49.415879",
     "status": "completed"
    },
    "tags": []
   },
   "source": [
    "## Ridge Regression"
   ]
  },
  {
   "cell_type": "code",
   "execution_count": null,
   "id": "139363b1",
   "metadata": {
    "execution": {
     "iopub.execute_input": "2022-05-11T12:55:49.920309Z",
     "iopub.status.busy": "2022-05-11T12:55:49.919327Z",
     "iopub.status.idle": "2022-05-11T12:55:50.038710Z",
     "shell.execute_reply": "2022-05-11T12:55:50.038142Z"
    },
    "papermill": {
     "duration": 0.287998,
     "end_time": "2022-05-11T12:55:50.041899",
     "exception": false,
     "start_time": "2022-05-11T12:55:49.753901",
     "status": "completed"
    },
    "tags": []
   },
   "outputs": [],
   "source": [
    "scores_ridge = -1 * cross_val_score(model_ridge, X_train, y_train,\n",
    "                                  cv=5,\n",
    "                                  scoring='neg_mean_squared_error')\n",
    "\n",
    "print(\"MSE scores (Ridge Model):\\n\", scores_ridge)\n",
    "print(\"Mean MSE scores:\", scores_ridge.mean())"
   ]
  },
  {
   "cell_type": "code",
   "execution_count": null,
   "id": "4fee34f8",
   "metadata": {
    "execution": {
     "iopub.execute_input": "2022-05-11T12:55:50.448129Z",
     "iopub.status.busy": "2022-05-11T12:55:50.446732Z",
     "iopub.status.idle": "2022-05-11T12:55:50.484260Z",
     "shell.execute_reply": "2022-05-11T12:55:50.483041Z"
    },
    "papermill": {
     "duration": 0.2052,
     "end_time": "2022-05-11T12:55:50.486263",
     "exception": false,
     "start_time": "2022-05-11T12:55:50.281063",
     "status": "completed"
    },
    "tags": []
   },
   "outputs": [],
   "source": [
    "model_ridge.fit(X_train, y_train)\n",
    "y_pred_ridge = model_ridge.predict(X_test)\n",
    "print_score(y_test, y_pred_ridge, \"Ridge\")"
   ]
  },
  {
   "cell_type": "code",
   "execution_count": null,
   "id": "168a4489",
   "metadata": {
    "execution": {
     "iopub.execute_input": "2022-05-11T12:55:50.889139Z",
     "iopub.status.busy": "2022-05-11T12:55:50.887759Z",
     "iopub.status.idle": "2022-05-11T12:55:51.164490Z",
     "shell.execute_reply": "2022-05-11T12:55:51.163429Z"
    },
    "papermill": {
     "duration": 0.443757,
     "end_time": "2022-05-11T12:55:51.167015",
     "exception": false,
     "start_time": "2022-05-11T12:55:50.723258",
     "status": "completed"
    },
    "tags": []
   },
   "outputs": [],
   "source": [
    "plt.figure()\n",
    "plt.title(\"Actual vs. Predicted house prices\\n (Ridge)\", fontsize=20)\n",
    "plt.scatter(np.exp(y_test), np.exp(y_pred_ridge),\n",
    "            color=\"deepskyblue\", marker=\"o\", facecolors=\"none\")\n",
    "plt.plot([0, 800000], [0, 800000], \"darkorange\", lw=2)\n",
    "plt.xlim(0, 800000)\n",
    "plt.ylim(0, 800000)\n",
    "plt.xlabel(\"\\nActual Price\", fontsize=16)\n",
    "plt.ylabel(\"Predicted Price\\n\", fontsize=16)\n",
    "plt.show()"
   ]
  },
  {
   "cell_type": "markdown",
   "id": "341d22d8",
   "metadata": {
    "papermill": {
     "duration": 0.243152,
     "end_time": "2022-05-11T12:55:51.652994",
     "exception": false,
     "start_time": "2022-05-11T12:55:51.409842",
     "status": "completed"
    },
    "tags": []
   },
   "source": [
    "### Hyperparamter Tuning (Ridge)"
   ]
  },
  {
   "cell_type": "code",
   "execution_count": null,
   "id": "13997300",
   "metadata": {
    "execution": {
     "iopub.execute_input": "2022-05-11T12:55:52.138848Z",
     "iopub.status.busy": "2022-05-11T12:55:52.138494Z",
     "iopub.status.idle": "2022-05-11T12:55:58.375772Z",
     "shell.execute_reply": "2022-05-11T12:55:58.375035Z"
    },
    "papermill": {
     "duration": 6.485144,
     "end_time": "2022-05-11T12:55:58.378953",
     "exception": false,
     "start_time": "2022-05-11T12:55:51.893809",
     "status": "completed"
    },
    "tags": []
   },
   "outputs": [],
   "source": [
    "# Define hyperparameters\n",
    "alphas = np.linspace(0, 10, 100).tolist()\n",
    "\n",
    "tuned_parameters = {\"alpha\": alphas}\n",
    "\n",
    "# GridSearch\n",
    "ridge_cv = GridSearchCV(Ridge(), tuned_parameters, cv=10, n_jobs=-1, verbose=1)\n",
    "\n",
    "# fit the GridSearch on train set\n",
    "ridge_cv.fit(X_train, y_train)\n",
    "\n",
    "# print best params and the corresponding R²\n",
    "print(f\"Best hyperparameters: {ridge_cv.best_params_}\")\n",
    "print(f\"Best R² (train): {ridge_cv.best_score_}\")"
   ]
  },
  {
   "cell_type": "code",
   "execution_count": null,
   "id": "afafe9cf",
   "metadata": {
    "execution": {
     "iopub.execute_input": "2022-05-11T12:55:58.794280Z",
     "iopub.status.busy": "2022-05-11T12:55:58.794019Z",
     "iopub.status.idle": "2022-05-11T12:55:58.819712Z",
     "shell.execute_reply": "2022-05-11T12:55:58.819101Z"
    },
    "papermill": {
     "duration": 0.201112,
     "end_time": "2022-05-11T12:55:58.822714",
     "exception": false,
     "start_time": "2022-05-11T12:55:58.621602",
     "status": "completed"
    },
    "tags": []
   },
   "outputs": [],
   "source": [
    "model_ridge_opt = Ridge(alpha = ridge_cv.best_params_[\"alpha\"])\n",
    "model_ridge_opt.fit(X_train, y_train)\n",
    "y_pred_ridge_opt = model_ridge_opt.predict(X_test)\n",
    "print_score(y_test, y_pred_ridge_opt, \"Ridge\")"
   ]
  },
  {
   "cell_type": "code",
   "execution_count": null,
   "id": "d10a315e",
   "metadata": {
    "execution": {
     "iopub.execute_input": "2022-05-11T12:55:59.385407Z",
     "iopub.status.busy": "2022-05-11T12:55:59.385118Z",
     "iopub.status.idle": "2022-05-11T12:55:59.600533Z",
     "shell.execute_reply": "2022-05-11T12:55:59.599724Z"
    },
    "papermill": {
     "duration": 0.46749,
     "end_time": "2022-05-11T12:55:59.602624",
     "exception": false,
     "start_time": "2022-05-11T12:55:59.135134",
     "status": "completed"
    },
    "tags": []
   },
   "outputs": [],
   "source": [
    "plt.figure()\n",
    "plt.title(\"Actual vs. Predicted house prices\\n (Ridge - Optimal alpha value)\", fontsize=20)\n",
    "plt.scatter(np.exp(y_test), np.exp(y_pred_ridge_opt),\n",
    "            color=\"deepskyblue\", marker=\"o\", facecolors=\"none\")\n",
    "plt.plot([0, 800000], [0, 800000], \"darkorange\", lw=2)\n",
    "plt.xlim(0, 800000)\n",
    "plt.ylim(0, 800000)\n",
    "plt.xlabel(\"\\nActual Price\", fontsize=16)\n",
    "plt.ylabel(\"Predicted Price\\n\", fontsize=16)\n",
    "plt.show()"
   ]
  },
  {
   "cell_type": "markdown",
   "id": "9cb570f3",
   "metadata": {
    "papermill": {
     "duration": 0.249922,
     "end_time": "2022-05-11T12:56:00.100159",
     "exception": false,
     "start_time": "2022-05-11T12:55:59.850237",
     "status": "completed"
    },
    "tags": []
   },
   "source": [
    "## Lasso Regression"
   ]
  },
  {
   "cell_type": "code",
   "execution_count": null,
   "id": "1df905f3",
   "metadata": {
    "execution": {
     "iopub.execute_input": "2022-05-11T12:56:00.602539Z",
     "iopub.status.busy": "2022-05-11T12:56:00.601809Z",
     "iopub.status.idle": "2022-05-11T12:56:00.809306Z",
     "shell.execute_reply": "2022-05-11T12:56:00.806553Z"
    },
    "papermill": {
     "duration": 0.462043,
     "end_time": "2022-05-11T12:56:00.813228",
     "exception": false,
     "start_time": "2022-05-11T12:56:00.351185",
     "status": "completed"
    },
    "tags": []
   },
   "outputs": [],
   "source": [
    "scores_lasso = -1 * cross_val_score(model_lasso, X_train, y_train,\n",
    "                                  cv=5,\n",
    "                                  scoring='neg_mean_squared_error')\n",
    "\n",
    "print(\"MSE scores (Lasso Model):\\n\", scores_lasso)\n",
    "print(\"Mean MSE scores:\", scores_lasso.mean())"
   ]
  },
  {
   "cell_type": "code",
   "execution_count": null,
   "id": "a70ca0fc",
   "metadata": {
    "execution": {
     "iopub.execute_input": "2022-05-11T12:56:01.387496Z",
     "iopub.status.busy": "2022-05-11T12:56:01.387202Z",
     "iopub.status.idle": "2022-05-11T12:56:01.435231Z",
     "shell.execute_reply": "2022-05-11T12:56:01.433818Z"
    },
    "papermill": {
     "duration": 0.306601,
     "end_time": "2022-05-11T12:56:01.437865",
     "exception": false,
     "start_time": "2022-05-11T12:56:01.131264",
     "status": "completed"
    },
    "tags": []
   },
   "outputs": [],
   "source": [
    "model_lasso.fit(X_train, y_train)\n",
    "y_pred_lasso = model_lasso.predict(X_test)\n",
    "print_score(y_test, y_pred_lasso, \"Lasso\")"
   ]
  },
  {
   "cell_type": "code",
   "execution_count": null,
   "id": "222f7b1e",
   "metadata": {
    "execution": {
     "iopub.execute_input": "2022-05-11T12:56:02.005989Z",
     "iopub.status.busy": "2022-05-11T12:56:02.005691Z",
     "iopub.status.idle": "2022-05-11T12:56:02.313027Z",
     "shell.execute_reply": "2022-05-11T12:56:02.311892Z"
    },
    "papermill": {
     "duration": 0.571656,
     "end_time": "2022-05-11T12:56:02.315428",
     "exception": false,
     "start_time": "2022-05-11T12:56:01.743772",
     "status": "completed"
    },
    "tags": []
   },
   "outputs": [],
   "source": [
    "plt.figure()\n",
    "plt.title(\"Actual vs. Predicted house prices\\n (Lasso)\", fontsize=20)\n",
    "plt.scatter(np.exp(y_test), np.exp(y_pred_lasso),\n",
    "            color=\"deepskyblue\", marker=\"o\", facecolors=\"none\")\n",
    "plt.plot([0, 800000], [0, 800000], \"darkorange\", lw=2)\n",
    "plt.xlim(0, 800000)\n",
    "plt.ylim(0, 800000)\n",
    "plt.xlabel(\"\\nActual Price\", fontsize=16)\n",
    "plt.ylabel(\"Predicted Price\\n\", fontsize=16)\n",
    "plt.show()"
   ]
  },
  {
   "cell_type": "markdown",
   "id": "e4feffe4",
   "metadata": {
    "papermill": {
     "duration": 0.192862,
     "end_time": "2022-05-11T12:56:02.701868",
     "exception": false,
     "start_time": "2022-05-11T12:56:02.509006",
     "status": "completed"
    },
    "tags": []
   },
   "source": [
    "### Hyperparameter Tuning (Lasso)"
   ]
  },
  {
   "cell_type": "code",
   "execution_count": null,
   "id": "a155f3ac",
   "metadata": {
    "execution": {
     "iopub.execute_input": "2022-05-11T12:56:03.074263Z",
     "iopub.status.busy": "2022-05-11T12:56:03.073819Z",
     "iopub.status.idle": "2022-05-11T12:56:09.445182Z",
     "shell.execute_reply": "2022-05-11T12:56:09.444517Z"
    },
    "papermill": {
     "duration": 6.554737,
     "end_time": "2022-05-11T12:56:09.447525",
     "exception": false,
     "start_time": "2022-05-11T12:56:02.892788",
     "status": "completed"
    },
    "tags": []
   },
   "outputs": [],
   "source": [
    "# Define hyperparameters\n",
    "alphas = np.logspace(-5, 5, 100).tolist()\n",
    "\n",
    "tuned_parameters = {\"alpha\": alphas}\n",
    "\n",
    "# GridSearch\n",
    "lasso_cv = GridSearchCV(Lasso(), tuned_parameters, cv=10, n_jobs=-1, verbose=1)\n",
    "\n",
    "# fit the GridSearch on train set\n",
    "lasso_cv.fit(X_train, y_train)\n",
    "\n",
    "# print best params and the corresponding R²\n",
    "print(f\"Best hyperparameters: {lasso_cv.best_params_}\")\n",
    "print(f\"Best R² (train): {lasso_cv.best_score_}\")"
   ]
  },
  {
   "cell_type": "code",
   "execution_count": null,
   "id": "81197850",
   "metadata": {
    "execution": {
     "iopub.execute_input": "2022-05-11T12:56:09.965904Z",
     "iopub.status.busy": "2022-05-11T12:56:09.965595Z",
     "iopub.status.idle": "2022-05-11T12:56:10.019568Z",
     "shell.execute_reply": "2022-05-11T12:56:10.017221Z"
    },
    "papermill": {
     "duration": 0.307583,
     "end_time": "2022-05-11T12:56:10.022621",
     "exception": false,
     "start_time": "2022-05-11T12:56:09.715038",
     "status": "completed"
    },
    "tags": []
   },
   "outputs": [],
   "source": [
    "model_lasso_opt = Lasso(alpha = lasso_cv.best_params_[\"alpha\"])\n",
    "\n",
    "model_lasso_opt.fit(X_train, y_train)\n",
    "y_pred_lasso_opt = model_lasso_opt.predict(X_test)\n",
    "print_score(y_test, y_pred_lasso_opt, \"Lasso\")"
   ]
  },
  {
   "cell_type": "code",
   "execution_count": null,
   "id": "d7109dea",
   "metadata": {
    "execution": {
     "iopub.execute_input": "2022-05-11T12:56:10.431166Z",
     "iopub.status.busy": "2022-05-11T12:56:10.430818Z",
     "iopub.status.idle": "2022-05-11T12:56:10.647016Z",
     "shell.execute_reply": "2022-05-11T12:56:10.645211Z"
    },
    "papermill": {
     "duration": 0.392536,
     "end_time": "2022-05-11T12:56:10.650175",
     "exception": false,
     "start_time": "2022-05-11T12:56:10.257639",
     "status": "completed"
    },
    "tags": []
   },
   "outputs": [],
   "source": [
    "plt.figure()\n",
    "plt.title(\"Actual vs. Predicted house prices\\n (Lasso - Optimal alpha value)\", fontsize=20)\n",
    "plt.scatter(np.exp(y_test), np.exp(y_pred_lasso_opt),\n",
    "            color=\"deepskyblue\", marker=\"o\", facecolors=\"none\")\n",
    "plt.plot([0, 800000], [0, 800000], \"darkorange\", lw=2)\n",
    "plt.xlim(0, 800000)\n",
    "plt.ylim(0, 800000)\n",
    "plt.xlabel(\"\\nActual Price\", fontsize=16)\n",
    "plt.ylabel(\"Predicted Price\\n\", fontsize=16)\n",
    "plt.show()"
   ]
  },
  {
   "cell_type": "markdown",
   "id": "c0017c36",
   "metadata": {
    "papermill": {
     "duration": 0.253119,
     "end_time": "2022-05-11T12:56:11.155465",
     "exception": false,
     "start_time": "2022-05-11T12:56:10.902346",
     "status": "completed"
    },
    "tags": []
   },
   "source": [
    "## Decision Tree Regressor"
   ]
  },
  {
   "cell_type": "code",
   "execution_count": null,
   "id": "951a765a",
   "metadata": {
    "execution": {
     "iopub.execute_input": "2022-05-11T12:56:11.666162Z",
     "iopub.status.busy": "2022-05-11T12:56:11.665726Z",
     "iopub.status.idle": "2022-05-11T12:56:11.843295Z",
     "shell.execute_reply": "2022-05-11T12:56:11.841723Z"
    },
    "papermill": {
     "duration": 0.435896,
     "end_time": "2022-05-11T12:56:11.845958",
     "exception": false,
     "start_time": "2022-05-11T12:56:11.410062",
     "status": "completed"
    },
    "tags": []
   },
   "outputs": [],
   "source": [
    "scores_tree = -1 * cross_val_score(model_tree, X_train, y_train,\n",
    "                                   cv=5,\n",
    "                                   scoring='neg_mean_squared_error')\n",
    "\n",
    "print(\"MSE scores (Decision Tree Model):\\n\", scores_tree)\n",
    "print(\"Mean MSE scores:\", scores_tree.mean())"
   ]
  },
  {
   "cell_type": "code",
   "execution_count": null,
   "id": "2ac51431",
   "metadata": {
    "execution": {
     "iopub.execute_input": "2022-05-11T12:56:12.360868Z",
     "iopub.status.busy": "2022-05-11T12:56:12.360305Z",
     "iopub.status.idle": "2022-05-11T12:56:12.402979Z",
     "shell.execute_reply": "2022-05-11T12:56:12.402080Z"
    },
    "papermill": {
     "duration": 0.301664,
     "end_time": "2022-05-11T12:56:12.405311",
     "exception": false,
     "start_time": "2022-05-11T12:56:12.103647",
     "status": "completed"
    },
    "tags": []
   },
   "outputs": [],
   "source": [
    "model_tree.fit(X_train, y_train)\n",
    "y_pred_tree = model_tree.predict(X_test)\n",
    "print_score(y_test, y_pred_tree, \"Decision Tree\")"
   ]
  },
  {
   "cell_type": "code",
   "execution_count": null,
   "id": "6551cfb2",
   "metadata": {
    "execution": {
     "iopub.execute_input": "2022-05-11T12:56:12.927256Z",
     "iopub.status.busy": "2022-05-11T12:56:12.926645Z",
     "iopub.status.idle": "2022-05-11T12:56:13.168210Z",
     "shell.execute_reply": "2022-05-11T12:56:13.166673Z"
    },
    "papermill": {
     "duration": 0.504485,
     "end_time": "2022-05-11T12:56:13.170648",
     "exception": false,
     "start_time": "2022-05-11T12:56:12.666163",
     "status": "completed"
    },
    "tags": []
   },
   "outputs": [],
   "source": [
    "plt.figure()\n",
    "plt.title(\"Actual vs. Predicted house prices\\n (Decision Tree)\", fontsize=20)\n",
    "plt.scatter(np.exp(y_test), np.exp(y_pred_tree),\n",
    "            color=\"deepskyblue\", marker=\"o\", facecolors=\"none\")\n",
    "plt.plot([0, 800000], [0, 800000], \"darkorange\", lw=2)\n",
    "plt.xlim(0, 800000)\n",
    "plt.ylim(0, 800000)\n",
    "plt.xlabel(\"\\nActual Price\", fontsize=16)\n",
    "plt.ylabel(\"Predicted Price\\n\", fontsize=16)\n",
    "plt.show()"
   ]
  },
  {
   "cell_type": "markdown",
   "id": "bc1e53d1",
   "metadata": {
    "papermill": {
     "duration": 0.179688,
     "end_time": "2022-05-11T12:56:13.570036",
     "exception": false,
     "start_time": "2022-05-11T12:56:13.390348",
     "status": "completed"
    },
    "tags": []
   },
   "source": [
    "## Random Forest Regressor"
   ]
  },
  {
   "cell_type": "code",
   "execution_count": null,
   "id": "d438923a",
   "metadata": {
    "execution": {
     "iopub.execute_input": "2022-05-11T12:56:13.959896Z",
     "iopub.status.busy": "2022-05-11T12:56:13.959525Z",
     "iopub.status.idle": "2022-05-11T12:56:21.508199Z",
     "shell.execute_reply": "2022-05-11T12:56:21.506642Z"
    },
    "papermill": {
     "duration": 7.731156,
     "end_time": "2022-05-11T12:56:21.510433",
     "exception": false,
     "start_time": "2022-05-11T12:56:13.779277",
     "status": "completed"
    },
    "tags": []
   },
   "outputs": [],
   "source": [
    "scores_ran = -1 * cross_val_score(model_ran, X_train, y_train,\n",
    "                                  cv=5,\n",
    "                                  scoring='neg_mean_squared_error')\n",
    "\n",
    "print(\"MSE scores (Random Forest Model):\\n\", scores_ran)\n",
    "print(\"Mean MSE scores:\", scores_ran.mean())"
   ]
  },
  {
   "cell_type": "code",
   "execution_count": null,
   "id": "35cdfce3",
   "metadata": {
    "execution": {
     "iopub.execute_input": "2022-05-11T12:56:21.868798Z",
     "iopub.status.busy": "2022-05-11T12:56:21.867741Z",
     "iopub.status.idle": "2022-05-11T12:56:23.753833Z",
     "shell.execute_reply": "2022-05-11T12:56:23.752692Z"
    },
    "papermill": {
     "duration": 2.068339,
     "end_time": "2022-05-11T12:56:23.756517",
     "exception": false,
     "start_time": "2022-05-11T12:56:21.688178",
     "status": "completed"
    },
    "tags": []
   },
   "outputs": [],
   "source": [
    "model_ran.fit(X_train, y_train)\n",
    "y_pred_ran = model_ran.predict(X_test)\n",
    "print_score(y_test, y_pred_ran, \"Random Forest\")"
   ]
  },
  {
   "cell_type": "code",
   "execution_count": null,
   "id": "7e1d8400",
   "metadata": {
    "execution": {
     "iopub.execute_input": "2022-05-11T12:56:24.276041Z",
     "iopub.status.busy": "2022-05-11T12:56:24.275551Z",
     "iopub.status.idle": "2022-05-11T12:56:24.523651Z",
     "shell.execute_reply": "2022-05-11T12:56:24.522465Z"
    },
    "papermill": {
     "duration": 0.512818,
     "end_time": "2022-05-11T12:56:24.526880",
     "exception": false,
     "start_time": "2022-05-11T12:56:24.014062",
     "status": "completed"
    },
    "tags": []
   },
   "outputs": [],
   "source": [
    "plt.figure()\n",
    "plt.title(\"Actual vs. Predicted house prices\\n (Random Forest)\", fontsize=20)\n",
    "plt.scatter(np.exp(y_test), np.exp(y_pred_ran),\n",
    "            color=\"deepskyblue\", marker=\"o\", facecolors=\"none\")\n",
    "plt.plot([0, 800000], [0, 800000], \"darkorange\", lw=2)\n",
    "plt.xlim(0, 800000)\n",
    "plt.ylim(0, 800000)\n",
    "plt.xlabel(\"\\nActual Price\", fontsize=16)\n",
    "plt.ylabel(\"Predicted Price\\n\", fontsize=16)\n",
    "plt.show()"
   ]
  },
  {
   "cell_type": "markdown",
   "id": "fee6bfd9",
   "metadata": {
    "papermill": {
     "duration": 0.263876,
     "end_time": "2022-05-11T12:56:25.053439",
     "exception": false,
     "start_time": "2022-05-11T12:56:24.789563",
     "status": "completed"
    },
    "tags": []
   },
   "source": [
    "## XGBoost Regression"
   ]
  },
  {
   "cell_type": "code",
   "execution_count": null,
   "id": "14dedd56",
   "metadata": {
    "execution": {
     "iopub.execute_input": "2022-05-11T12:56:25.568470Z",
     "iopub.status.busy": "2022-05-11T12:56:25.568201Z",
     "iopub.status.idle": "2022-05-11T12:57:48.205678Z",
     "shell.execute_reply": "2022-05-11T12:57:48.204260Z"
    },
    "papermill": {
     "duration": 83.154177,
     "end_time": "2022-05-11T12:57:48.466054",
     "exception": false,
     "start_time": "2022-05-11T12:56:25.311877",
     "status": "completed"
    },
    "tags": []
   },
   "outputs": [],
   "source": [
    "# Define hyperparameters\n",
    "tuned_parameters_xgb = {\"max_depth\": [3],\n",
    "                        \"colsample_bytree\": [0.3, 0.7],\n",
    "                        \"learning_rate\": [0.01, 0.05, 0.1],\n",
    "                        \"n_estimators\": [100, 500, 1000]}\n",
    "\n",
    "# GridSearch\n",
    "xgbr_cv = GridSearchCV(estimator=XGBRegressor(),\n",
    "                       param_grid=tuned_parameters_xgb,\n",
    "                       cv=5,\n",
    "                       n_jobs=-1,\n",
    "                       verbose=1)\n",
    "\n",
    "# fit the GridSearch on train set\n",
    "xgbr_cv.fit(X_train, y_train)\n",
    "\n",
    "# print best params and the corresponding R²\n",
    "print(f\"Best hyperparameters: {xgbr_cv.best_params_}\\n\")\n",
    "print(f\"Best R²: {xgbr_cv.best_score_}\")"
   ]
  },
  {
   "cell_type": "code",
   "execution_count": null,
   "id": "8a643a8d",
   "metadata": {
    "execution": {
     "iopub.execute_input": "2022-05-11T12:57:48.995449Z",
     "iopub.status.busy": "2022-05-11T12:57:48.995129Z",
     "iopub.status.idle": "2022-05-11T12:57:52.963845Z",
     "shell.execute_reply": "2022-05-11T12:57:52.962962Z"
    },
    "papermill": {
     "duration": 4.235891,
     "end_time": "2022-05-11T12:57:52.966453",
     "exception": false,
     "start_time": "2022-05-11T12:57:48.730562",
     "status": "completed"
    },
    "tags": []
   },
   "outputs": [],
   "source": [
    "model_xgb_opt = XGBRegressor(colsample_bytree = xgbr_cv.best_params_[\"colsample_bytree\"],\n",
    "                             learning_rate = xgbr_cv.best_params_[\"learning_rate\"],\n",
    "                             max_depth = xgbr_cv.best_params_[\"max_depth\"],\n",
    "                             n_estimators = xgbr_cv.best_params_[\"n_estimators\"])\n",
    "\n",
    "model_xgb_opt.fit(X_train, y_train)\n",
    "y_pred_xgb_opt = model_xgb_opt.predict(X_test)\n",
    "print_score(y_test, y_pred_xgb_opt, \"XGBoost\")"
   ]
  },
  {
   "cell_type": "code",
   "execution_count": null,
   "id": "33e634c0",
   "metadata": {
    "execution": {
     "iopub.execute_input": "2022-05-11T12:57:53.326021Z",
     "iopub.status.busy": "2022-05-11T12:57:53.325680Z",
     "iopub.status.idle": "2022-05-11T12:57:53.593764Z",
     "shell.execute_reply": "2022-05-11T12:57:53.592088Z"
    },
    "papermill": {
     "duration": 0.452584,
     "end_time": "2022-05-11T12:57:53.597037",
     "exception": false,
     "start_time": "2022-05-11T12:57:53.144453",
     "status": "completed"
    },
    "tags": []
   },
   "outputs": [],
   "source": [
    "plt.figure()\n",
    "plt.title(\"Actual vs. Predicted house prices\\n (XGBoost Regressor)\", fontsize=20)\n",
    "plt.scatter(np.exp(y_test), np.exp(y_pred_xgb_opt),\n",
    "            color=\"deepskyblue\", marker=\"o\", facecolors=\"none\")\n",
    "plt.plot([0, 800000], [0, 800000], \"darkorange\", lw=2)\n",
    "plt.xlim(0, 800000)\n",
    "plt.ylim(0, 800000)\n",
    "plt.xlabel(\"\\nActual Price\", fontsize=16)\n",
    "plt.ylabel(\"Predicted Price\\n\", fontsize=16)\n",
    "plt.show()"
   ]
  },
  {
   "cell_type": "markdown",
   "id": "0de5bd03",
   "metadata": {
    "papermill": {
     "duration": 0.263878,
     "end_time": "2022-05-11T12:57:54.133462",
     "exception": false,
     "start_time": "2022-05-11T12:57:53.869584",
     "status": "completed"
    },
    "tags": []
   },
   "source": [
    "After application of hyperparameter tuning, the Lasso model returned the best R^{2} score and the lowest RMSE value, achieving an accuracy of around 90.7%. Based on this, the optimized Lasso Regression model will be used to predict the Sale Price of houses from the test dataset. The predicted sale prices will be saved into a csv file named \"submission.csv\"."
   ]
  },
  {
   "cell_type": "code",
   "execution_count": null,
   "id": "4775bb3e",
   "metadata": {
    "execution": {
     "iopub.execute_input": "2022-05-11T12:57:54.658217Z",
     "iopub.status.busy": "2022-05-11T12:57:54.657871Z",
     "iopub.status.idle": "2022-05-11T12:57:54.676654Z",
     "shell.execute_reply": "2022-05-11T12:57:54.676121Z"
    },
    "papermill": {
     "duration": 0.281204,
     "end_time": "2022-05-11T12:57:54.678552",
     "exception": false,
     "start_time": "2022-05-11T12:57:54.397348",
     "status": "completed"
    },
    "tags": []
   },
   "outputs": [],
   "source": [
    "# Prediction of House Prices using the Optimal Lasso Regression Model\n",
    "\n",
    "y_pred = np.exp(model_lasso_opt.predict(data_test_new))\n",
    "\n",
    "output = pd.DataFrame({\"Id\": Id_test_list,\n",
    "                       \"SalePrice\": y_pred})\n",
    "\n",
    "output.head(10)"
   ]
  },
  {
   "cell_type": "code",
   "execution_count": null,
   "id": "ff84eeaa",
   "metadata": {},
   "outputs": [],
   "source": [
    "output.shape"
   ]
  },
  {
   "cell_type": "code",
   "execution_count": null,
   "id": "63c9b788",
   "metadata": {
    "execution": {
     "iopub.execute_input": "2022-05-11T12:57:55.096711Z",
     "iopub.status.busy": "2022-05-11T12:57:55.096427Z",
     "iopub.status.idle": "2022-05-11T12:57:55.109178Z",
     "shell.execute_reply": "2022-05-11T12:57:55.108129Z"
    },
    "papermill": {
     "duration": 0.213458,
     "end_time": "2022-05-11T12:57:55.111834",
     "exception": false,
     "start_time": "2022-05-11T12:57:54.898376",
     "status": "completed"
    },
    "tags": []
   },
   "outputs": [],
   "source": [
    "# Save the output\n",
    "output.to_csv(\"submission.csv\", index=False)"
   ]
  }
 ],
 "metadata": {
  "kernelspec": {
   "display_name": "Python 3 (ipykernel)",
   "language": "python",
   "name": "python3"
  },
  "language_info": {
   "codemirror_mode": {
    "name": "ipython",
    "version": 3
   },
   "file_extension": ".py",
   "mimetype": "text/x-python",
   "name": "python",
   "nbconvert_exporter": "python",
   "pygments_lexer": "ipython3",
   "version": "3.9.7"
  },
  "papermill": {
   "default_parameters": {},
   "duration": 242.524002,
   "end_time": "2022-05-11T12:57:58.001052",
   "environment_variables": {},
   "exception": null,
   "input_path": "__notebook__.ipynb",
   "output_path": "__notebook__.ipynb",
   "parameters": {},
   "start_time": "2022-05-11T12:53:55.477050",
   "version": "2.3.4"
  }
 },
 "nbformat": 4,
 "nbformat_minor": 5
}
